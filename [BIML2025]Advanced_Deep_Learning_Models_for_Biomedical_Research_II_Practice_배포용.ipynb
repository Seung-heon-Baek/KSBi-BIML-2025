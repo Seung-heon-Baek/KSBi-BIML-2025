{
  "nbformat": 4,
  "nbformat_minor": 0,
  "metadata": {
    "colab": {
      "provenance": [],
      "include_colab_link": true
    },
    "kernelspec": {
      "name": "python3",
      "display_name": "Python 3"
    },
    "language_info": {
      "name": "python"
    }
  },
  "cells": [
    {
      "cell_type": "markdown",
      "metadata": {
        "id": "view-in-github",
        "colab_type": "text"
      },
      "source": [
        "<a href=\"https://colab.research.google.com/github/Seung-heon-Baek/KSBi-BIML-2025/blob/main/%5BBIML2025%5DAdvanced_Deep_Learning_Models_for_Biomedical_Research_II_Practice_%EB%B0%B0%ED%8F%AC%EC%9A%A9.ipynb\" target=\"_parent\"><img src=\"https://colab.research.google.com/assets/colab-badge.svg\" alt=\"Open In Colab\"/></a>"
      ]
    },
    {
      "cell_type": "markdown",
      "source": [
        "# BIML 2025 Advanced Deep Learning Models for Biomedical Research II\n",
        "- 고려대학교 의과대학 전민지 교수, 심우종, 이지호 조교\n",
        "\n",
        "### 실습 논문\n",
        "- Cui, Haotian et al. “scGPT: toward building a foundation model for single-cell multi-omics using generative AI.” Nature methods vol. 21,8 (2024): 1470-1480. doi:10.1038/s41592-024-02201-0\n",
        "\n",
        "### 실습 목표: scGPT 모델 실습 및 fine-tuning\n",
        "\n",
        "1. Data load 및 전처리\n",
        "2. Model 만들기\n",
        "- Embedding Module\n",
        "- Transformer Module\n",
        "- Interaction Module\n",
        "- Decoder Module\n",
        "3. SMILES, Protein amino acid sequence의 substructure 정의\n",
        "4. Loss function 및 Optimizer 정의\n",
        "5. Training\n",
        "6. Drug target interaction 예측\n",
        "7. Interaction Map 시각화"
      ],
      "metadata": {
        "id": "W1rJTzpalMTj"
      }
    },
    {
      "cell_type": "code",
      "source": [],
      "metadata": {
        "id": "R0JhIyaEoIRP"
      },
      "execution_count": null,
      "outputs": []
    }
  ]
}