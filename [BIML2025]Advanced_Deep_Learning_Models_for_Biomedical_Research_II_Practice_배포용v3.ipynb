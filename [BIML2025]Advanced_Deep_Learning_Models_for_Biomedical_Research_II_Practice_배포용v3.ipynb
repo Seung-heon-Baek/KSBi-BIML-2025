{
  "nbformat": 4,
  "nbformat_minor": 0,
  "metadata": {
    "colab": {
      "provenance": [],
      "gpuType": "T4",
      "include_colab_link": true
    },
    "kernelspec": {
      "name": "python3",
      "display_name": "Python 3"
    },
    "language_info": {
      "name": "python"
    },
    "accelerator": "GPU"
  },
  "cells": [
    {
      "cell_type": "markdown",
      "metadata": {
        "id": "view-in-github",
        "colab_type": "text"
      },
      "source": [
        "<a href=\"https://colab.research.google.com/github/Seung-heon-Baek/KSBi-BIML-2025/blob/main/%5BBIML2025%5DAdvanced_Deep_Learning_Models_for_Biomedical_Research_II_Practice_%EB%B0%B0%ED%8F%AC%EC%9A%A9v3.ipynb\" target=\"_parent\"><img src=\"https://colab.research.google.com/assets/colab-badge.svg\" alt=\"Open In Colab\"/></a>"
      ]
    },
    {
      "cell_type": "markdown",
      "source": [
        "# BIML 2025 Advanced Deep Learning Models for Biomedical Research\n",
        "- 고려대학교 의과대학 전민지 교수, 심우종, 이지호 조교"
      ],
      "metadata": {
        "id": "iK4D0WVwhlsj"
      }
    },
    {
      "cell_type": "markdown",
      "source": [
        "### **실습에 앞서: WandB 가입**\n",
        "\n",
        "WandB는 ML/DL 모델 실험을 편리하게 관리할 수 있는 MLOps 툴로, 모델 학습 과정에서 나오는 성능 metric을 시각화하고 체크포인트를 자동으로 저장하는 등의 기능을 갖추고 있습니다.  \n",
        "이번 실습에서는 WandB를 이용해 scGPT fine-tuning 과정을 모니터링할 예정입니다.\n",
        "\n",
        "WandB를 사용하기 위해서는 WandB 계정이 있어야 합니다. WandB를 처음 사용하시는 분들은 아래 링크에 접속하여 회원가입을 미리 진행해주시기 바랍니다.  \n",
        "https://wandb.ai/site/ko/"
      ],
      "metadata": {
        "id": "rutCqI-Thlqx"
      }
    },
    {
      "cell_type": "markdown",
      "source": [
        "### 실습 논문\n",
        "- Cui, Haotian, et al. \"scGPT: toward building a foundation model for single-cell multi-omics using generative AI.\" *Nature Methods* (2024)"
      ],
      "metadata": {
        "id": "BZvUb6O5hpnn"
      }
    },
    {
      "cell_type": "markdown",
      "source": [
        "### 실습을 위한 안내\n",
        "- \"`## 코드 시작 ##`\", \"`## 코드 종료 ##`\"는 여러분이 직접 작성하시는 부분입니다.\n",
        "- None으로 표기된 부분에 알맞은 코드를 대체합니다."
      ],
      "metadata": {
        "id": "D3ct4qT7Aq2Q"
      }
    },
    {
      "cell_type": "markdown",
      "source": [
        "## 0. Colab 환경 설정\n",
        "### 0.0 GPU 사용을 위한 설정\n",
        "Colab에서 GPU를 사용하기 위해서 아래의 절차를 따라주시면 됩니다.  \n",
        "`T4 RAM 디스크` 아이콘 옆의 `추가 연결 옵션` -> `런타임 유형 변경` -> 하드웨어 가속기를 `T4 GPU`로 설정 후 저장"
      ],
      "metadata": {
        "id": "KEP9_rzlh4dT"
      }
    },
    {
      "cell_type": "markdown",
      "source": [
        "### 0.1 필요한 라이브러리 설치\n",
        "이번 실습에 사용되는 데이터를 다루고 코드를 실행하기 위해서는 `anndata`, `scanpy`, `scib` 라이브러리가 필요합니다.  \n",
        "그러나 Colab에는 위 라이브러리가 설치되어있지 않기 때문에 아래 명령어를 실행하여 라이브러리를 직접 설치해줍니다."
      ],
      "metadata": {
        "id": "5jf7scZAh9qb"
      }
    },
    {
      "cell_type": "code",
      "execution_count": null,
      "metadata": {
        "id": "fuhN_4njg_m1"
      },
      "outputs": [],
      "source": [
        "!pip install anndata scanpy scib"
      ]
    },
    {
      "cell_type": "markdown",
      "source": [
        "### 0.2 드라이브 마운트\n",
        "개인 구글 드라이브와 Colab을 연결합니다."
      ],
      "metadata": {
        "id": "-jkW5ePQiOn9"
      }
    },
    {
      "cell_type": "code",
      "source": [
        "from google.colab import auth\n",
        "auth.authenticate_user()\n",
        "\n",
        "from google.colab import drive\n",
        "drive.mount('/content/drive', force_remount=True)"
      ],
      "metadata": {
        "id": "W5RMtbCMiBYY",
        "colab": {
          "base_uri": "https://localhost:8080/"
        },
        "outputId": "a721efe8-e4fa-4290-e885-61bcf489b1d9"
      },
      "execution_count": null,
      "outputs": [
        {
          "output_type": "stream",
          "name": "stdout",
          "text": [
            "Mounted at /content/drive\n"
          ]
        }
      ]
    },
    {
      "cell_type": "markdown",
      "source": [
        "앞선 실습 시간에서 다운 받은 폴더 중 scGPT_practice.zip 파일에 사용할 데이터셋과 scGPT 소스코드가 저장되어 있습니다. 아래 코드 실행 시 이 zip 파일의 압축이 풀립니다.  \n",
        "압축 해제 후 아래 구조로 데이터가 저장되어 있는지 확인해주세요.\n",
        "\n",
        "- scGPT_dataset\n",
        "    - celltype_cls\n",
        "        - human_yolksac_train.h5ad\n",
        "        - human_yolksac_test.h5ad\n",
        "    - multiomics\n",
        "        - BMMC_processed.h5ad\n",
        "- scgpt\n",
        "    - model\n",
        "        - \\_\\_init\\_\\_.py\n",
        "        - dsbn.py\n",
        "        - grad_reverse.py\n",
        "        - model.py\n",
        "        - multiomic_model.py\n",
        "        - args.json\n",
        "        - vocab.json\n",
        "        - best_model.pt\n",
        "    - utils\n",
        "        - \\_\\_init\\_\\_.py\n",
        "        - loss.py\n",
        "        - preprocess.py\n",
        "        - tokenizer.py\n",
        "        - trainer.py\n",
        "        - utils.py\n",
        "    - \\_\\_init\\_\\_.py"
      ],
      "metadata": {
        "id": "LYU-WunSi2Nz"
      }
    },
    {
      "cell_type": "code",
      "source": [
        "import subprocess\n",
        "\n",
        "# Google Drive 내 data.zip 파일의 절대 경로를 지정\n",
        "target_file_path = \"/content/drive/MyDrive/data.zip\"\n",
        "\n",
        "# data.zip 파일을 현재 위치에 압축 해제\n",
        "command = [\"unzip\", \"-qq\", target_file_path, \"-d\", \"./\"]\n",
        "subprocess.run(command)"
      ],
      "metadata": {
        "colab": {
          "base_uri": "https://localhost:8080/"
        },
        "id": "_FXjuWWsldF9",
        "outputId": "08fd017d-76a9-4415-ad82-0735b862f866"
      },
      "execution_count": null,
      "outputs": [
        {
          "output_type": "execute_result",
          "data": {
            "text/plain": [
              "CompletedProcess(args=['unzip', '-qq', '/content/drive/MyDrive/data.zip', '-d', './'], returncode=0)"
            ]
          },
          "metadata": {},
          "execution_count": 3
        }
      ]
    },
    {
      "cell_type": "code",
      "source": [
        "# Google Drive 내 scGPT_practice.zip 파일의 절대 경로를 지정\n",
        "target_file_path = \"/content/data/scGPT/scGPT_practice.zip\"\n",
        "\n",
        "# data.zip 파일을 현재 위치에 압축 해제\n",
        "command = [\"unzip\", \"-qq\", target_file_path, \"-d\", \"./\"]\n",
        "subprocess.run(command)"
      ],
      "metadata": {
        "id": "Ik2bBw-8itia",
        "colab": {
          "base_uri": "https://localhost:8080/"
        },
        "outputId": "207fb412-d50a-48e9-c3ea-7a1edf31ad06"
      },
      "execution_count": null,
      "outputs": [
        {
          "output_type": "execute_result",
          "data": {
            "text/plain": [
              "CompletedProcess(args=['unzip', '-qq', '/content/data/scGPT/scGPT_practice.zip', '-d', './'], returncode=0)"
            ]
          },
          "metadata": {},
          "execution_count": 4
        }
      ]
    },
    {
      "cell_type": "markdown",
      "source": [
        "### 0.3 필요한 패키지 불러오기"
      ],
      "metadata": {
        "id": "nlOWkG-dxAyd"
      }
    },
    {
      "cell_type": "code",
      "source": [
        "import copy\n",
        "import gc\n",
        "import json\n",
        "import os\n",
        "import sys\n",
        "import time\n",
        "import traceback\n",
        "import warnings\n",
        "from typing import Iterable, List, Tuple, Dict, Sequence, Optional, Callable\n",
        "from tqdm import tqdm\n",
        "\n",
        "import numpy as np\n",
        "import pandas as pd\n",
        "import matplotlib.pyplot as plt\n",
        "import seaborn as sns\n",
        "from sklearn import preprocessing\n",
        "from sklearn.model_selection import train_test_split\n",
        "from sklearn.metrics import accuracy_score, precision_score, recall_score, f1_score\n",
        "import scipy.sparse as sp\n",
        "from scipy.sparse import issparse\n",
        "import umap\n",
        "import wandb\n",
        "\n",
        "import torch\n",
        "import torch.nn as nn\n",
        "import torch.nn.functional as F\n",
        "from torch.utils.data import Dataset, DataLoader\n",
        "\n",
        "from anndata import AnnData\n",
        "import scanpy as sc\n",
        "\n",
        "from scgpt import logger\n",
        "from scgpt.utils.preprocess import Preprocessor\n",
        "from scgpt.utils.tokenizer import Vocab, tokenize_and_pad_batch, random_mask_value\n",
        "from scgpt.model.model import TransformerModel, AdversarialDiscriminator\n",
        "from scgpt.model.multiomic_model import MultiOmicTransformerModel\n",
        "from scgpt.utils.trainer import SeqDataset, prepare_data, define_wandb_metrics, train, evaluate, eval_testdata\n",
        "from scgpt.utils.utils import set_seed, add_file_handler\n",
        "from scgpt.utils.trainer import SubsetsBatchSampler\n",
        "\n",
        "sc.set_figure_params(figsize=(4, 4))\n",
        "os.environ[\"KMP_WARNINGS\"] = \"off\"\n",
        "warnings.filterwarnings(\"ignore\")"
      ],
      "metadata": {
        "id": "21gdJVt2uTTg"
      },
      "execution_count": null,
      "outputs": []
    },
    {
      "cell_type": "markdown",
      "source": [
        "아래 코드 실행 시 `GPU 사용 가능 여부: False`로 출력되면 GPU 런타임으로 연결해주세요.  \n",
        "`T4 RAM 디스크` 아이콘 옆의 `추가 연결 옵션` -> `런타임 유형 변경` -> 하드웨어 가속기를 `T4 GPU`로 설정 후 저장"
      ],
      "metadata": {
        "id": "hUvysueJuvYk"
      }
    },
    {
      "cell_type": "code",
      "source": [
        "print(f\"GPU 사용 가능 여부: {torch.cuda.is_available()}\")"
      ],
      "metadata": {
        "id": "m60tKXQButZt"
      },
      "execution_count": null,
      "outputs": []
    },
    {
      "cell_type": "markdown",
      "source": [
        "# 실습 1. Cell type annotation"
      ],
      "metadata": {
        "id": "Yn_L0L-cw8s7"
      }
    },
    {
      "cell_type": "markdown",
      "source": [
        "실습 목표: scRNA-seq 데이터셋으로 cell type 예측하기, **모델 fine-tuning 전후로 cell embedding clustering 결과와 cell type annotation 성능 비교하기**\n",
        "\n",
        "차례\n",
        "1. 하이퍼파라미터 세팅\n",
        "1. 데이터 불러오기 및 전처리\n",
        "1. 사전학습 된 scGPT 모델 사용하기\n",
        "1. scGPT fine-tuning하기"
      ],
      "metadata": {
        "id": "Ve8x_DkMhrmD"
      }
    },
    {
      "cell_type": "markdown",
      "source": [
        "## 1. 하이퍼파라미터 세팅"
      ],
      "metadata": {
        "id": "43ZXXYHtCVpg"
      }
    },
    {
      "cell_type": "markdown",
      "source": [
        "하이퍼파라미터는 학습되는 파라미터가 아닌, 사용자가 직접 설정해 주어야 하는 값들을 의미합니다.\n",
        "\n",
        "| 이름                 | Type                     | 설명                                                                       \n",
        "|------------------------|--------------------------|----------------------------------------------------------------------------|\n",
        "| `seed`            | `int`                    | 모델 초기화 시드                                              |\n",
        "| `do_train`           | `bool`                    | 학습을 통해 모델의 파라미터 업데이트 여부                                                                 |\n",
        "| `load_model`              | `str`                    | 사전학습된 모델의 파라미터가 들어있는 모델 경로                                                       |\n",
        "| `GEP`               | `bool`                    | Fine-tuning objective 1: gene expression prediction 여부                                             |\n",
        "| `GEPC`              | `bool`                    | Fine-tuning objective 2: GEP for cell modeling 여부                                                             |\n",
        "| `CLS`                | `bool`                    | Fine-tuning objective 3: cell type classification 여부                                                 |\n",
        "| `ESC`              | `bool`                  | Fine-tuning objective 4: elastic cell similarity 여부                     |\n",
        "| `DAR`         | `bool`                    | Fine-tuning objective 5: domain adaptation via reverse back propagation 여부                                                   |\n",
        "| `DSBN`           | `bool`                    | Fine-tuning objective 6: domain-specific batch normalization 여부                                                   |\n",
        "| `ecs_thres`            | `float \\| int`                    | ECS task에서의 similarity threshold, ECS 미수행 시 0                                                 |\n",
        "| `dab_weight`           | `float \\| int`                    | Domain adaptation loss 비율                                                                 |\n",
        "| `use_batch_labels`          | `bool`                   | Batch embedding 사용 여부                                                  |\n",
        "| `use_mod`               | `bool` | Modality token 사용 여부, multi-modality input 사용 시 True                                            |\n",
        "| `mask_ratio` | `float`                   | MLM에서 masking 비율                                                         |\n",
        "| `explicit_zero_prob` | `bool`                   | 확률적으로 특정 gene에 대한 발현량을 0으로 맞춰줄 것인지 여부                                                         |\n",
        "| `per_seq_batch_sample` | `bool`                   | 모델 학습을 위한 mini-batch를 만들 때, 한 mini-batch에는 같은 scRNA-seq batch로부터 나온 데이터로만 구성할지 여부                                                         |\n",
        "| `epochs` | `int`                   | Training epoch 수                                                         |\n",
        "| `input_layer_key` | `str`                   | AnnData 객체의 layer 중 model input으로 사용할 layer                                                         |\n",
        "| `n_bins` | `int`                   | Value binning 기법에서 사용할 bin 수                                                         |\n",
        "| `n_hvg` | `int` | 원본 데이터 중 HVG 몇 개만 선별하여 사용할 지 설정 |\n",
        "| `max_seq_len` | `int` | Default n_hvg + 1 |\n",
        "| `lr` | `float` | 학습률 |\n",
        "| `batch_size` | `int` | Mini-batch 크기 |\n",
        "| `layer_size` | `int` | Embedding vector의 dimension 수 |\n",
        "| `nlayers` | `int` | Transformer 모델의 encoder layer 수 |\n",
        "| `nhead` | `int` | Multi-head attention에서 사용할 head 수 |\n",
        "| `dropout` | `float` | MLP에 적용할 dropout 비율 |\n",
        "| `schedule_ratio` | `float` | 학습률 scheduler에 사용할 learning rate decay 비율 |\n",
        "| `save_eval_interval` | `int` | 몇 epoch마다 학습된 파라미터를 파일로 저장할지 지정 |\n",
        "| `log_interval` | `int` | 학습 상황 logging을 몇 mini-batch마다 할 것인지 지정 |\n",
        "| `fast_transformer` | `bool` | FlashAttention 사용 여부 |\n",
        "| `pre_norm` | `bool` | LayerNorm을 self-attention 및 feed-forward 모듈 전에 적용할 것인지 여부 |\n",
        "| `amp` | `bool` | Mixed precision learning 적용 여부, 사용 시 연산 효율성과 학습 성능을 향상 |\n",
        "| `pad_token` | `str` | Vocab에 pad token이 어떻게 저장되어있는지 작성 |\n",
        "| `mask_value` | `int` | Mask token index |\n",
        "| `pad_value` | `int` | Pad token index |\n",
        "| `include_zero_gene` | `bool` | 발현량이 0인 gene도 포함할지 여부 |\n",
        "| `freeze` | `bool` | Fine-tuning 시 인코더 freeze 여부 |"
      ],
      "metadata": {
        "id": "g9FBPDi0yNb9"
      }
    },
    {
      "cell_type": "code",
      "source": [
        "hyperparameters = {\n",
        "    \"task\": \"annotation\",\n",
        "    \"seed\": 42,\n",
        "    \"dataset_name\": \"human_yolksac\",\n",
        "    \"do_train\": True,\n",
        "    \"load_model\": \"./scgpt/model\",\n",
        "    ## 코드 시작 ##\n",
        "    ## 아래 fine-tuning objective (GEP-DSBN) 중 이번 실습에서 사용할 objective를 boolean으로 표시해주세요.\n",
        "    ## None 대신 각 기준에 올바른 값들을 넣어주세요\n",
        "    \"GEP\": None,\n",
        "    \"GEPC\": None,\n",
        "    \"CLS\": None,\n",
        "    \"ESC\": None,\n",
        "    \"DAR\": None,\n",
        "    \"DSBN\": None,\n",
        "    \"mask_ratio\": None, # GEP 및 GEPC가 fine-tuning objective인 경우 mask ratio를 0.4로 지정해주고, objective가 아닌 경우 0으로 설정\n",
        "    \"ecs_thres\": None, # ECS가 fine-tuning objective인 경우 cell similarity threshold를 0.8로 지정해주고, objective가 아닌 경우 0으로 설정\n",
        "    \"dab_weight\": None, # DAR이 fine-tuning objective인 경우 domain adaptation loss 적용 비율을 1.0으로 지정해주고, objective가 아닌 경우 0으로 설정\n",
        "    \"use_batch_labels\": None,\n",
        "    \"use_mod\": None,\n",
        "    ## 코드 종료 ##\n",
        "    \"explicit_zero_prob\": False,\n",
        "    \"per_seq_batch_sample\": False,\n",
        "    \"epochs\": 2,\n",
        "    \"input_layer_key\": \"X_binned\",\n",
        "    \"n_bins\": 51,\n",
        "    \"max_seq_len\": 3001,\n",
        "    \"lr\": 1e-4,\n",
        "    \"batch_size\": 32,\n",
        "    \"layer_size\": 512,\n",
        "    \"nlayers\": 4,\n",
        "    \"nhead\": 8,\n",
        "    \"dropout\": 0.2,\n",
        "    \"schedule_ratio\": 0.9,\n",
        "    \"save_eval_interval\": 5,\n",
        "    \"log_interval\": 100,\n",
        "    \"fast_transformer\": False,\n",
        "    \"pre_norm\": False,\n",
        "    \"amp\": True,\n",
        "    \"pad_token\": \"<pad>\",\n",
        "    \"mask_value\": -1,\n",
        "    \"pad_value\": -2,\n",
        "    \"include_zero_gene\": False,\n",
        "    \"freeze\": True\n",
        "}"
      ],
      "metadata": {
        "id": "ylblTL3Cyejl"
      },
      "execution_count": null,
      "outputs": []
    },
    {
      "cell_type": "markdown",
      "source": [
        "설정한 hyperparameter로 WandB를 setup해줍니다.\n",
        "\n",
        "아래 코드 실행 시 `wandb` 사용 권한 획득을 위한 API key를 입력하는 창이 아래와 같이 나옵니다.  \n",
        "![image.png](data:image/png;base64,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)  \n",
        "두 번째로 나오는 링크로 들어가서 권한 획득을 위한 API key를 복사한 후, 입력창에 붙여넣습니다."
      ],
      "metadata": {
        "id": "7T1e0vAQC5gE"
      }
    },
    {
      "cell_type": "code",
      "source": [
        "run = wandb.init(\n",
        "    config=hyperparameters,\n",
        "    project=\"scGPT\",\n",
        "    reinit=True,\n",
        "    settings=wandb.Settings(start_method=\"fork\")\n",
        ")\n",
        "config = wandb.config\n",
        "print(config)\n",
        "\n",
        "set_seed(config.seed)"
      ],
      "metadata": {
        "id": "dSY62lrFDCTy"
      },
      "execution_count": null,
      "outputs": []
    },
    {
      "cell_type": "code",
      "source": [
        "save_dir = f\"./save/dev_human_YS-{time.strftime('%b%d-%H-%M')}\"\n",
        "os.makedirs(save_dir)\n",
        "add_file_handler(logger, save_dir + \"/run.log\")"
      ],
      "metadata": {
        "id": "mYkX_J1xDJ5M"
      },
      "execution_count": null,
      "outputs": []
    },
    {
      "cell_type": "markdown",
      "source": [
        "## 2. 데이터 불러오기 및 전처리"
      ],
      "metadata": {
        "id": "HVFv0YROCQvW"
      }
    },
    {
      "cell_type": "markdown",
      "source": [
        "### 2.1 `anndata` 패키지에 대한 이해\n",
        "\n",
        "![image.png](data:image/png;base64,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)\n",
        "\n",
        "`anndata`는 각 행 및 열마다 annotation이 달려 있는 행렬 데이터를 간편하게 다룰 수 있도록 하는 Python 패키지로, gene expression 데이터를 저장하고 다루는 데에 많이 사용됩니다.  \n",
        "이 라이브러리는 행렬 데이터를 `AnnData` 객체로 만들어주며, scRNA-seq 데이터를 담은 `AnnData` 객체는 아래와 같이 구성되어 있습니다.\n",
        "- X: 원본 데이터\n",
        "    - 행: observation, 각 cell을 나타냅니다.\n",
        "    - 열: variable, 각 gene을 나타냅니다.\n",
        "    - 값: 특정 cell의 특정 gene expression value를 나타냅니다.\n",
        "- obs: observation에 대한 annotation, 즉 각 cell에 대한 metadata\n",
        "- var: variable에 대한 annotation, 즉 각 gene에 대한 metadata"
      ],
      "metadata": {
        "id": "6GKTSssfuzco"
      }
    },
    {
      "cell_type": "markdown",
      "source": [
        "### 2.2 Human yolk sac 데이터 불러오기\n",
        "\n",
        "이번 실습에 사용할 human yolk sac (YS) 데이터셋은 인간 수정란의 난황낭을 구성하는 세포들의 scRNA-seq 데이터입니다 ([Goh et al., *Science* 2023](https://www.science.org/doi/10.1126/science.add7564)). 데이터 구성은 아래와 같습니다.\n",
        "- 10 YS samples: Carnegie stages 10-23\n",
        "- 169,798 cells, 37,318 genes\n",
        "- 38 cell subtypes\n",
        "\n",
        "이번 실습에 사용할 데이터는 위 데이터 중 한 개의 샘플, 7,920개의 cell만 사용하겠습니다."
      ],
      "metadata": {
        "id": "9D3nlY85FCSx"
      }
    },
    {
      "cell_type": "code",
      "source": [
        "# h5ad 형식으로 저장된 데이터셋을 확인해줍니다.\n",
        "dataset_path = \"./scGPT_dataset/celltype_cls/human_yolksac_train.h5ad\"\n",
        "test_dataset_path = \"./scGPT_dataset/celltype_cls/human_yolksac_test.h5ad\"\n",
        "\n",
        "# scanpy.read_h5ad는 h5ad 파일을 읽어서 AnnData 객체로 만들어주는 역할을 합니다.\n",
        "adata = sc.read_h5ad(dataset_path)\n",
        "adata_test = sc.read_h5ad(test_dataset_path)\n",
        "num_cells, num_genes = adata.shape\n",
        "num_cells_test, num_genes_test = adata_test.shape\n",
        "\n",
        "adata = adata[:(num_cells // 4), :]\n",
        "adata_test = adata_test[:(num_cells_test // 4), :]\n",
        "\n",
        "print(\"Train set\")\n",
        "print(\"X\")\n",
        "display(adata.to_df())\n",
        "print(\"\\nobs\")\n",
        "display(adata.obs)\n",
        "print(\"\\nvar\")\n",
        "display(adata.var)"
      ],
      "metadata": {
        "id": "hGPfw8z2u5qa"
      },
      "execution_count": null,
      "outputs": []
    },
    {
      "cell_type": "markdown",
      "source": [
        "**Label에 관하여**\n",
        "\n",
        "`adata.obs`에는 cell type이 3가지의 level로 annotation된 데이터가 들어있습니다.  \n",
        "Annotation level은 얼마나 세부적인 카테고리로 cell type을 나누었는지에 따라 구분되며, 각 level에서 상정한 cell type 카테고리는 아래 이미지와 같습니다.\n",
        "\n",
        "![image.png](data:image/png;base64,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)\n",
        "\n",
        "이번 실습에서는 6개의 카테고리로 cell type을 나눈 level 1 annotation을 label로 사용하겠습니다.\n"
      ],
      "metadata": {
        "id": "z_FGjwiTu-be"
      }
    },
    {
      "cell_type": "markdown",
      "source": [
        "주어진 데이터를 모델 input으로 사용하기 위해 data type을 맞춰줍니다."
      ],
      "metadata": {
        "id": "8Uo1RCCPKumm"
      }
    },
    {
      "cell_type": "code",
      "source": [
        "## 코드 시작 ##\n",
        "# 1. 각 batch(샘플)를 구분할 수 있는 구분자를 지정하여\n",
        "# AnnData 객체의 obs metadata의 \"str_batch\" 칼럼에 설정해줍니다.\n",
        "# 이번 실습 데이터는 한 명의 샘플을 다루기 때문에 batch ID를 아래와 같이 설정하겠습니다.\n",
        "# Train set: 0, test set: 1\n",
        "\n",
        "###################################\n",
        "## 이 박스 위치에 코드를 작성해주세요 ##\n",
        "###################################\n",
        "\n",
        "# 2. adata.X의 칼럼명(adata.var의 index명)을 gene name으로 전환해줍니다.\n",
        "\n",
        "###################################\n",
        "## 이 박스 위치에 코드를 작성해주세요 ##\n",
        "###################################\n",
        "\n",
        "# 3. Train set과 test set을 하나의 AnnData 객체로 합쳐줍니다.\n",
        "adata = None\n",
        "\n",
        "# 4. Cell type ID와 cell type 이름을 mapping할 수 있는 딕셔너리를 만들어줍니다.\n",
        "id2type = None\n",
        "type2id = None\n",
        "\n",
        "# 5. Batch 구분자와 cell type 레이블을 ID로 전환하여 AnnData 객체의 observation metadata에 설정해줍니다.\n",
        "# 이 때, cell type ID는 obs metadata에 반드시 \"celltype\"이라는 칼럼명으로 저장하여야 합니다.\n",
        "adata.obs[\"batch_id\"] = None\n",
        "adata.obs[\"celltype\"] = None\n",
        "## 코드 종료 ##\n",
        "\n",
        "celltypes = adata.obs[\"LVL1\"].unique()\n",
        "num_types = len(np.unique(adata.obs[\"LVL1\"].astype(\"category\")))"
      ],
      "metadata": {
        "id": "m1Tx3wBPKs7K"
      },
      "execution_count": null,
      "outputs": []
    },
    {
      "cell_type": "markdown",
      "source": [
        "### 2.3 Gene set cross-check\n",
        "\n",
        "모델 사전학습에 사용한 gene set과 사용하려는 데이터셋의 gene set을 비교해줍니다.  \n",
        "scGPT는 각 gene의 이름을 token으로 사용하기 때문에, 사전학습 모델의 vocab을 통해 사전학습에 사용한 gene set을 확인할 수 있습니다."
      ],
      "metadata": {
        "id": "gGnKiRKDqtPh"
      }
    },
    {
      "cell_type": "code",
      "source": [
        "vocab_path = \"./scgpt/model/vocab.json\"\n",
        "\n",
        "# JSON 형태의 vocab 파일을 파이썬의 json 패키지로 열면\n",
        "# 딕셔너리 객체로 vocab을 다룰 수 있습니다.\n",
        "with open(vocab_path, 'r') as f:\n",
        "    vocab = json.load(f)\n",
        "\n",
        "# Vocab이 {\"Gene 이름\": index} 형태로 저장되어 있습니다.\n",
        "print(vocab)"
      ],
      "metadata": {
        "id": "80xl3hctqZfc"
      },
      "execution_count": null,
      "outputs": []
    },
    {
      "cell_type": "code",
      "source": [
        "# <pad>, <cls>, <eoc> 등 special token을 vocab에 추가해줍니다.\n",
        "special_tokens = [config.pad_token, \"<cls>\", \"<eoc>\"]\n",
        "for s in special_tokens:\n",
        "    if s not in vocab:\n",
        "        if s == config.pad_token:\n",
        "            vocab[s] = config.pad_value\n",
        "        else:\n",
        "            vocab[s] = len(vocab)\n",
        "\n",
        "# Human yolk sac 데이터셋의 gene 중 사전학습 vocab에 있는 gene과 없는 gene을 구분해줍니다.\n",
        "adata.var[\"id_in_vocab\"] = [1 if gene in vocab else -1 for gene in adata.var[\"gene_name\"]]\n",
        "gene_ids_in_vocab = np.array(adata.var[\"id_in_vocab\"])\n",
        "\n",
        "logger.info(\n",
        "    f\"Vocab size: {len(vocab)}\\n\"\n",
        "    f\"데이터셋 내에 있는 gene 수: {len(gene_ids_in_vocab)}\\n\"\n",
        "    f\"데이터셋 내에 있는 gene 중 vocab에 있는 gene 수: {np.sum(gene_ids_in_vocab >= 0)}\"\n",
        ")\n",
        "\n",
        "old_vocab = Vocab({token: i for i, token in enumerate(vocab)}, default_index=vocab[\"<pad>\"])"
      ],
      "metadata": {
        "id": "oPKHrJdVrZzv"
      },
      "execution_count": null,
      "outputs": []
    },
    {
      "cell_type": "markdown",
      "source": [
        "### 2.4 데이터 전처리\n",
        "Gene expression 데이터를 모델 input으로 넣기 위해 기본적인 전처리 과정(depth normalization, log normalization, highly variable gene (HVG) selection)을 거쳐줍니다.\n",
        "\n",
        "소스 코드에 구현되어 있는 `scgpt.utils.preprocess.Preprocessor` 클래스를 사용할 예정입니다. `Preprocessor` 인스턴스를 초기화할 때 필요한 인자는 아래와 같습니다.\n",
        "\n",
        "| 인자  | Type | 설명  \n",
        "|------------------------|--------------------------|----------------------------------------------------------------------------|\n",
        "| `use_key` | `str` | 전처리 할 데이터 (RNA count)가 AnnData 객체의 어떤 layer에 저장되어 있는가 |\n",
        "| `filter_gene_by_counts` | `int \\| bool` | 모든 cell에 거쳐서 발현량이 매우 낮게 나타나는 gene을 필터링, count threshold를 입력할 수도 있고, False 입력 시 gene filtering 생략 |\n",
        "| `filter_cell_by_counts` | `int \\| bool` | 모든 gene에 거쳐서 발현량이 매우 낮게 나타나는 cell을 필터링, count threshold를 입력할 수도 있고, False 입력 시 cell filtering 생략 |\n",
        "| `normalize_total` | `float \\| bool` | Count normalization 후 총 count 합이 몇이 되도록 할 것인가, False 입력시 normalization 생략 |\n",
        "| `result_normed_key` | `str \\| None` | Normalized count를 AnnData 객체의 어떤 layer에 저장할 것인가, normalization 생략 시 None |\n",
        "| `log1p` | `bool` | log1p transformation 수행 여부 |\n",
        "| `result_log1p_key` | `str` | Log transformed count를 AnnData 객체의 어떤 layer에 저장할 것인가, log1p 생략 시 None |\n",
        "| `subset_hvg` | `int \\| bool` | HVG selection 수행 시 몇 개의 HVG를 선별할 지, False 입력 시 HVG selection 생략 |\n",
        "| `hvg_flavor` | `Literal['seurat', 'cell_ranger', 'seurat_v3', 'seurat_v3_paper']` | HVG selection 시 사용할 프로토콜, HVG selection 생략 시 None |\n",
        "| `binning` | `int` | scGPT에 발현량 정보를 입력할 때 몇 개의 bin으로 발현량을 나눠서 입력할 것인가 |\n",
        "| `result_binned_key` | `str` | Binning을 수행한 데이터를 AnnData 객체의 어느 layer에 저장할 것인가 |"
      ],
      "metadata": {
        "id": "HHSc1SuksdJE"
      }
    },
    {
      "cell_type": "code",
      "source": [
        "# 전처리 옵션을 Preprocessor 클래스의 인자로 입력해준 후 전처리기 인스턴스를 만들어 줍니다.\n",
        "preprocessor = Preprocessor(\n",
        "    use_key=\"X\",\n",
        "    filter_gene_by_counts=False,\n",
        "    filter_cell_by_counts=False,\n",
        "    normalize_total=1e4,\n",
        "    result_normed_key=\"X_normed\",\n",
        "    log1p=True,\n",
        "    result_log1p_key=\"X_log1p\",\n",
        "    subset_hvg=False,\n",
        "    hvg_flavor=None,\n",
        "    binning=config.n_bins,\n",
        "    result_binned_key=\"X_binned\",\n",
        ")\n",
        "\n",
        "# Train set과 test set을 나누어 전처리해줍니다.\n",
        "adata_test = adata[adata.obs[\"str_batch\"] == \"1\"]\n",
        "adata = adata[adata.obs[\"str_batch\"] == \"0\"]\n",
        "\n",
        "# 생성된 preprocessor 객체로 아래와 같이 전처리를 수행할 수 있습니다.\n",
        "# batch_key 인자는 observation metadata 중 batch 정보가 들어 있는 칼럼명을 나타냅니다.\n",
        "# HVG selection에 사용되는 인자이므로, HVG selection 생략 시 None으로 입력합니다.\n",
        "preprocessor(adata, batch_key=None)\n",
        "preprocessor(adata_test, batch_key=None)"
      ],
      "metadata": {
        "id": "ANZPISwExtfI"
      },
      "execution_count": null,
      "outputs": []
    },
    {
      "cell_type": "code",
      "source": [
        "# 전처리 후 데이터를 확인합니다.\n",
        "print(\"Train set\")\n",
        "print(\"Normalized\")\n",
        "display(adata.to_df(layer=\"X_normed\"))\n",
        "print(\"Log transformed\")\n",
        "display(adata.to_df(layer=\"X_log1p\"))\n",
        "print(\"Binned\")\n",
        "display(adata.to_df(layer=\"X_binned\"))"
      ],
      "metadata": {
        "id": "wNjCx9bO1ckv"
      },
      "execution_count": null,
      "outputs": []
    },
    {
      "cell_type": "code",
      "source": [
        "print(\"Test set\")\n",
        "print(\"Normalized\")\n",
        "display(adata_test.to_df(layer=\"X_normed\"))\n",
        "print(\"Log transformed\")\n",
        "display(adata_test.to_df(layer=\"X_log1p\"))\n",
        "print(\"Binned\")\n",
        "display(adata_test.to_df(layer=\"X_binned\"))"
      ],
      "metadata": {
        "id": "IKzY--bL2K0l"
      },
      "execution_count": null,
      "outputs": []
    },
    {
      "cell_type": "markdown",
      "source": [
        "### 2.5 입력 데이터 토큰화 및 패딩\n",
        "Gene expression을 언어 모델 입력으로 넣기 위해 gene 토큰화 및 패딩을 수행합니다.\n",
        "\n",
        "언어모델에서 토큰화란 입력 문장이 주어졌을 때 그 문장을 vocab에 등록된 토큰으로 나누는 과정을 말합니다.\n",
        "\n",
        "scGPT에서는 각 gene이 vocab이기 때문에 gene별로 토큰화가 수행될 예정입니다."
      ],
      "metadata": {
        "id": "d_QqBq9f3bAa"
      }
    },
    {
      "cell_type": "markdown",
      "source": [
        "우선 train set 중 일부를 validation set으로 나누어줍니다."
      ],
      "metadata": {
        "id": "rnIcFd9v4jCr"
      }
    },
    {
      "cell_type": "code",
      "source": [
        "input_layer_key = config.input_layer_key\n",
        "## 코드 시작 ##\n",
        "## Train-validation split을 위해 필요한 정보를 준비합니다.\n",
        "\n",
        "## 1. Input: 전처리를 수행한 gene expression values -> all_counts 변수에 저장합니다.\n",
        "all_counts = None\n",
        "\n",
        "## 2. Label: ID 형태의 cell type 정답값 -> NumPy array 형태로 celltypes_labels 변수에 저장합니다.\n",
        "celltypes_labels = None\n",
        "\n",
        "## 3. Batch ID: batch 구분자 -> NumPy array 형태로 batch_ids에 저장합니다.\n",
        "batch_ids = None\n",
        "\n",
        "(\n",
        "    train_data,\n",
        "    valid_data,\n",
        "    train_celltype_labels,\n",
        "    valid_celltype_labels,\n",
        "    train_batch_labels,\n",
        "    valid_batch_labels,\n",
        ") = train_test_split(\n",
        "    all_counts, celltypes_labels, batch_ids, test_size=0.1, shuffle=True\n",
        ") # Train-validation 비율을 달리 하려면 test_size 인자값을 변경해주면 됩니다."
      ],
      "metadata": {
        "id": "tHpANyZc4ou8"
      },
      "execution_count": null,
      "outputs": []
    },
    {
      "cell_type": "code",
      "source": [
        "## 코드 시작 ##\n",
        "## Test set에 대해서도 같은 방식으로 데이터를 준비해줍니다.\n",
        "test_data = None\n",
        "test_celltype_labels = None\n",
        "test_batch_labels = None\n",
        "## 코드 종료 ##"
      ],
      "metadata": {
        "id": "yKfJ60mmm7ai"
      },
      "execution_count": null,
      "outputs": []
    },
    {
      "cell_type": "markdown",
      "source": [
        "소스 코드에 제공되어 있는 `scgpt.utils.tokenizer.tokenize_and_pad_batch` 함수로 train set과 validation set에 대한 토큰화를 수행합니다. 해당 함수의 인자는 아래와 같습니다.\n",
        "\n",
        "| 인자  | Type | 설명  \n",
        "|------------------------|--------------------------|----------------------------------------------------------------------------|\n",
        "| `data` | `np.ndarray` | 토큰화할 입력 데이터 |\n",
        "| `gene_ids` | `np.ndarray` | 각 gene의 ID 값이 담긴 NumPy array  |\n",
        "| `max_len` | `int` | 최대 gene의 개수 |\n",
        "| `vocab` | `scgpt.utils.tokenizer.Vocab` | 토큰화에 사용할 vocab |\n",
        "| `pad_token` | `str` | Pad token은 어떻게 표현할 것인가 |\n",
        "| `pad_value` | `str` | Pad token이 있는 자리는 ID를 어떻게 표현할 것인가 |\n",
        "| `append_cls` | `bool` | CLS token (cell embedding)의 사용 여부 |\n",
        "| `include_zero_gene` | `bool` | 발현량이 0으로 기록된 gene도 토큰화에 사용할 것인지 여부 |\n",
        "| `cls_token` | `str` | CLS 토큰은 어떻게 표현할 것인가 |\n",
        "| `return_pt` | `bool` | 토큰화된 데이터를 PyTorch tensor로 받을 것인지, False인 경우 NumPy array로 받음 |\n",
        "| `mod_type` | `np.ndarray \\| None` | Data modality를 ID값으로 나타낸 NumPy array, multiomic data integration에만 사용하므로, multioic task가 아닌 경우에는 None |\n",
        "| `vocab_mod` | `scgpt.utils.tokenizer.Vocab \\| None` | Modality token에 대한 vocab, multiomic data integration에만 사용하므로, multioic task가 아닌 경우에는 None |"
      ],
      "metadata": {
        "id": "L115MX0M6hYp"
      }
    },
    {
      "cell_type": "markdown",
      "source": [
        "CLS 토큰은 일련의 gene expression profile을 바탕으로 해당 cell에 대한 특성 정보가 함축된 임베딩 벡터를 만드는 토큰입니다.  \n",
        "이 토큰으로부터 나온 임베딩 벡터는 cell type 분류를 위한 input으로 사용됩니다."
      ],
      "metadata": {
        "id": "obI8uH9vCJyP"
      }
    },
    {
      "cell_type": "code",
      "source": [
        "# Vocab은 소스 코드에서 제공하는 scgpt.utils.tokenizer.Vocab 인스턴스로 만들어줍니다.\n",
        "\n",
        "## 코드 시작 ##\n",
        "## 사용하는 데이터셋에 있는 모든 gene과 special token을 vocab으로 등록합니다.\n",
        "genes = None\n",
        "total_token_set = None\n",
        "## 코드 종료 ##\n",
        "\n",
        "vocab = Vocab({token: i for i, token in enumerate(total_token_set)}, default_index=total_token_set.index(\"<pad>\"))\n",
        "gene_ids = np.array(list(map(lambda x: vocab.stoi[x], genes)), dtype=int)"
      ],
      "metadata": {
        "id": "jPVX0KTE9uLX"
      },
      "execution_count": null,
      "outputs": []
    },
    {
      "cell_type": "code",
      "source": [
        "## 코드 시작 ##\n",
        "## tokenize_and_pad_batch 함수에 적절한 인자를 넣어\n",
        "## train set과 validation set에 대해 토큰화를 진행해줍니다.\n",
        "## 힌트: None이 정답일 수도 있습니다.\n",
        "tokenized_train = tokenize_and_pad_batch(\n",
        "    data=None,\n",
        "    gene_ids=None,\n",
        "    max_len=None,\n",
        "    vocab=None,\n",
        "    pad_token=None,\n",
        "    pad_value=None,\n",
        "    append_cls=None,\n",
        "    include_zero_gene=None,\n",
        "    mod_type=None,\n",
        "    vocab_mod=None\n",
        ")\n",
        "\n",
        "tokenized_valid = tokenize_and_pad_batch(\n",
        "    data=None,\n",
        "    gene_ids=None,\n",
        "    max_len=None,\n",
        "    vocab=None,\n",
        "    pad_token=None,\n",
        "    pad_value=None,\n",
        "    append_cls=None,\n",
        "    include_zero_gene=None,\n",
        "    mod_type=None,\n",
        "    vocab_mod=None\n",
        ")\n",
        "\n",
        "tokenized_test = tokenize_and_pad_batch(\n",
        "    data=None,\n",
        "    gene_ids=None,\n",
        "    max_len=None,\n",
        "    vocab=None,\n",
        "    pad_token=None,\n",
        "    pad_value=None,\n",
        "    append_cls=None,\n",
        "    include_zero_gene=None,\n",
        "    mod_type=None,\n",
        "    vocab_mod=None\n",
        ")\n",
        "## 코드 종료 ##\n",
        "\n",
        "logger.info(\n",
        "    f\"Train set cell 수: {tokenized_train['genes'].shape[0]}, \"\n",
        "    f\"\\n\\t feature length: {tokenized_train['genes'].shape[1]}\"\n",
        ")\n",
        "logger.info(\n",
        "    f\"Validation set cell 수: {tokenized_valid['genes'].shape[0]}, \"\n",
        "    f\"\\n\\t feature length: {tokenized_valid['genes'].shape[1]}\"\n",
        ")"
      ],
      "metadata": {
        "id": "G8ZeIBAg-wlu"
      },
      "execution_count": null,
      "outputs": []
    },
    {
      "cell_type": "code",
      "source": [
        "# 토큰화 결과를 확인해줍니다\n",
        "print(tokenized_train)\n",
        "print(tokenized_valid)"
      ],
      "metadata": {
        "id": "4VA_DS_yDel5"
      },
      "execution_count": null,
      "outputs": []
    },
    {
      "cell_type": "markdown",
      "source": [
        "## 3. 사전학습 된 scGPT 모델 사용하기"
      ],
      "metadata": {
        "id": "WSnG--9WCa94"
      }
    },
    {
      "cell_type": "markdown",
      "source": [
        "### 3.1 모델 불러오기"
      ],
      "metadata": {
        "id": "mHIVeGi0CdtJ"
      }
    },
    {
      "cell_type": "markdown",
      "source": [
        "Gene expression prediction과 cell type annotation 등의 task를 수행하는 모델 architecture는 `TransformerModel`로 구현되어 있습니다. 해당 모델 세팅을 위해 필요한 인자는 아래와 같습니다.\n",
        "\n",
        "| 인자  | Type | 설명  \n",
        "|------------------------|--------------------------|----------------------------------------------------------------------------|\n",
        "| `ntoken` | `int` | 입력 데이터의 토큰 수 |\n",
        "| `d_model` | `int` | 임베딩 벡터의 차원 수  |\n",
        "| `nhead` | `int` | Multi-head attention 모듈에서 헤드 수 |\n",
        "| `d_hid` | `int` | Transformer의 feed-forward layer에서 hidden dimension 수 |\n",
        "| `nlayers` | `int` | Transformer encoder의 layer 수 |\n",
        "| `nlayers_cls` | `int` | Classifier로 사용할 MLP의 layer 수 |\n",
        "| `n_cls` | `int` | 예측하려는 class의 총 가짓수 |\n",
        "| `vocab` | `scgpt.utils.tokenizer.Vocab` | 사용할 데이터에 따라 구축된 vocab |\n",
        "| `dropout` | `float` | Transformer encoder에 있는 MLP layer에 대한 dropout 비율 |\n",
        "| `pad_token` | `str` | Pad token이 어떻게 나타나있는지 |\n",
        "| `pad_value` | `int` | Pad token에 대한 index |\n",
        "| `do_mvc` | `bool` | Cell embedding에 대한 masked token prediction 수행 여부 |\n",
        "| `do_dab` | `bool` | Domain adaptation을 위한 학습 여부 |\n",
        "| `use_batch_labels` | `bool` | Batch label 사용 여부 |\n",
        "| `num_batch_labels` | `int \\| None` | Batch label 총 개수, batch label 미사용 시 None |\n",
        "| `domain_spec_batchnorm` | `bool \\| Literal['dsbn', 'batchnorm']` | Batch normalization을 수행하는 방식, domain-specific하게 할 것인지, 일반 batch norm을 적용할 것인지 선택 가능 |\n",
        "| `input_emb_style` | `bool \\| Literal['category', 'continuous', 'scaling']` | Embedding 값이 어떻게 구성되어있는지 입력 |\n",
        "| `input_emb_style` | `Literal['category', 'continuous', 'scaling']` | Embedding 값이 어떻게 구성되어있는지 입력 |\n",
        "| `cell_emb_style` | `Literal['cls', 'avg-pool', 'w-pool']` | Cell embedding을 어떤 방식으로 구성할지 입력 |\n",
        "| `cell_emb_style` | `Literal['cls', 'avg-pool', 'w-pool']` | Cell embedding을 어떤 방식으로 구성할지 입력 |\n",
        "| `mvc_decoder_style` | `Literal['inner_product', 'concat_query', 'sum_query']` | Gene expression prediction 시 Transformer decoder에서 query와 key간 attention 계산 방식 |\n",
        "| `n_input_bins` | `str` | Input 데이터의 bin 개수 |\n",
        "| `ecs_threshold` | `float` | ECS 수행 시 similarity threshold 값 |\n",
        "| `explicit_zero_prob` | `float` | 확률적으로 특정 gene에 대한 발현량을 0으로 맞춰줄 것인지 여부 |\n",
        "| `use_fast_transformer` | `bool` | 빠른 Transformer 연산을 위한 flash attention 사용 여부 |\n",
        "| `fast_transformer_backend` | `Literal['linear', 'flash']` | 어떤 툴로 fast Transformer를 수행할지 |\n",
        "| `pre_norm` | `bool` | LayerNorm을 self-attention 및 feed-forward 모듈 전에 적용할 것인지 여부 |"
      ],
      "metadata": {
        "id": "vIwmvqSqF_di"
      }
    },
    {
      "cell_type": "code",
      "source": [
        "device = \"cuda\" if torch.cuda.is_available() else \"cpu\"\n",
        "nlayers_cls = 3\n",
        "input_emb_style = \"continuous\"\n",
        "cell_emb_style = \"cls\"\n",
        "\n",
        "## 코드 시작 ##\n",
        "## 사용하려는 데이터에 맞게 적절한 인자를 입력하여 scGPT 모델을 초기화합니다.\n",
        "## 힌트: 일부 인자는 앞선 hyperparameter 딕셔너리에 미리 세팅해 놓았습니다.\n",
        "n_cls = None\n",
        "\n",
        "## embsize와 d_hid는 같은 값으로 설정합니다.\n",
        "embsize = None\n",
        "d_hid = None\n",
        "nlayers = None\n",
        "nhead = None\n",
        "\n",
        "\n",
        "model = TransformerModel(\n",
        "    ntoken=None,\n",
        "    d_model=None,\n",
        "    nhead=None,\n",
        "    d_hid=None,\n",
        "    nlayers=None,\n",
        "    nlayers_cls=None,\n",
        "    n_cls=None,\n",
        "    vocab=None,\n",
        "    dropout=None,\n",
        "    pad_token=None,\n",
        "    pad_value=None,\n",
        "    do_mvc=None,\n",
        "    do_dab=None,\n",
        "    use_batch_labels=None,\n",
        "    num_batch_labels=None,\n",
        "    domain_spec_batchnorm=None,\n",
        "    input_emb_style=None,\n",
        "    n_input_bins=None,\n",
        "    cell_emb_style=None,\n",
        "    explicit_zero_prob=None,\n",
        "    use_fast_transformer=None,\n",
        "    fast_transformer_backend=\"\",\n",
        "    pre_norm=None,\n",
        ")\n",
        "## 코드 종료 ##"
      ],
      "metadata": {
        "id": "msEtM4ToGE3l"
      },
      "execution_count": null,
      "outputs": []
    },
    {
      "cell_type": "markdown",
      "source": [
        "모델 architecture를 초기화하였다면, 사전 학습된 모델의 파라미터를 `model` 인스턴스에 입혀, 사전학습된 scGPT를 사용할 수 있도록 세팅합니다."
      ],
      "metadata": {
        "id": "ijI1j1CxSQUx"
      }
    },
    {
      "cell_type": "code",
      "source": [
        "model_path = \"./scgpt/model/best_model.pt\"\n",
        "try:\n",
        "    model.load_state_dict(torch.load(model_path))\n",
        "    logger.info(f\"Loading all model params from {model_path}\")\n",
        "except:\n",
        "    model_dict = model.state_dict()\n",
        "    pretrained_dict = torch.load(model_path)\n",
        "    pretrained_dict = {\n",
        "        k: v\n",
        "        for k, v in pretrained_dict.items()\n",
        "        if k in model_dict and v.shape == model_dict[k].shape\n",
        "    }\n",
        "    for k, v in pretrained_dict.items():\n",
        "        logger.info(f\"Loading params {k} with shape {v.shape}\")\n",
        "    model_dict.update(pretrained_dict)\n",
        "    model.load_state_dict(model_dict)\n",
        "model.to(device)"
      ],
      "metadata": {
        "id": "j8eiNzZlVFiT"
      },
      "execution_count": null,
      "outputs": []
    },
    {
      "cell_type": "markdown",
      "source": [
        "### 3.2 PyTorch DataLoader 인스턴스 만들기"
      ],
      "metadata": {
        "id": "Is937JF0Cg0g"
      }
    },
    {
      "cell_type": "markdown",
      "source": [
        "\n",
        "\n",
        "딥 러닝 프레임워크인 PyTorch에서는 `torch.utils.data.DataLoader`를 이용해 학습을 위한 데이터를 순차적으로 모델에 입력합니다.  \n",
        "DataLoader를 이용하면 학습 데이터를 mini-batch 단위로 쪼개어 모델에 입력하기 때문에, 학습에 사용되는 GPU 리소스를 보다 효율적으로 사용할 수 있습니다."
      ],
      "metadata": {
        "id": "wqF3fmEBXbaW"
      }
    },
    {
      "cell_type": "code",
      "source": [
        "# Step 1. Train, validation 데이터셋의 tokenized input, token index, label, batch ID를\n",
        "# PyTorch 텐서로 불러오기\n",
        "# 소스 코드의 prepare_data 함수로 이 작업을 수행할 수 있습니다.\n",
        "\n",
        "train_data_pt, valid_data_pt = prepare_data(\n",
        "    tokenized_train=tokenized_train,\n",
        "    tokenized_valid=tokenized_valid,\n",
        "    train_batch_labels=train_batch_labels,\n",
        "    valid_batch_labels=valid_batch_labels,\n",
        "    config=config,\n",
        "    epoch=0,\n",
        "    train_celltype_labels=train_celltype_labels,\n",
        "    valid_celltype_labels=valid_celltype_labels,\n",
        ")\n",
        "print(\"Train data\")\n",
        "print(train_data_pt)\n",
        "print(\"Validation data\")\n",
        "print(valid_data_pt)"
      ],
      "metadata": {
        "id": "WtU7rC8KZdDi"
      },
      "execution_count": null,
      "outputs": []
    },
    {
      "cell_type": "code",
      "source": [
        "# 소스코드의 prepare_data의 프로세스를 그대로 따라하여\n",
        "# Test set에 대한 input도 만들어줍니다.\n",
        "\n",
        "input_values_test = random_mask_value(\n",
        "    values=tokenized_test[\"values\"],\n",
        "    mask_ratio=config.mask_ratio,\n",
        "    mask_value=config.mask_value,\n",
        "    pad_value=config.pad_value\n",
        ")\n",
        "\n",
        "test_data_pt = {\n",
        "    \"gene_ids\": tokenized_test[\"genes\"],\n",
        "    \"values\": input_values_test,\n",
        "    \"target_values\": tokenized_test[\"values\"],\n",
        "    \"batch_labels\": torch.from_numpy(test_batch_labels).long(),\n",
        "    \"celltype_labels\": torch.from_numpy(test_celltype_labels).long()\n",
        "}"
      ],
      "metadata": {
        "id": "sjOXO-ajoAtX"
      },
      "execution_count": null,
      "outputs": []
    },
    {
      "cell_type": "code",
      "source": [
        "# Step 2. 텐서 형식의 데이터를 PyTorch Dataset 객체로 만들기\n",
        "# DataLoader를 만들기 위해서는 데이터를 Dataset 객체로 만들어야 합니다.\n",
        "# 소스코드에는 scGPT input에 특화된 SeqDataset 객체를 통해 이를 만들 수 있습니다.\n",
        "\n",
        "train_dataset = SeqDataset(train_data_pt)\n",
        "valid_dataset = SeqDataset(valid_data_pt)\n",
        "test_dataset = SeqDataset(test_data_pt)"
      ],
      "metadata": {
        "id": "UsMLLTuIcVXo"
      },
      "execution_count": null,
      "outputs": []
    },
    {
      "cell_type": "code",
      "source": [
        "# Step 3. 데이터로더 만들기\n",
        "# Train과 validation dataset에 대한 DataLoader를 만듭니다.\n",
        "# DataLoader 인스턴스 생성 시 batch size를 지정할 수 있습니다.\n",
        "\n",
        "train_dl = DataLoader(\n",
        "    train_dataset,\n",
        "    batch_size=config.batch_size,\n",
        "    shuffle=True,\n",
        "    num_workers=0,\n",
        "    pin_memory=True\n",
        ")\n",
        "valid_dl = DataLoader(\n",
        "    valid_dataset,\n",
        "    batch_size=config.batch_size,\n",
        "    shuffle=True,\n",
        "    num_workers=0,\n",
        "    pin_memory=True\n",
        ")\n",
        "test_dl = DataLoader(\n",
        "    test_dataset,\n",
        "    batch_size=config.batch_size,\n",
        "    shuffle=True,\n",
        "    num_workers=0,\n",
        "    pin_memory=True\n",
        ")"
      ],
      "metadata": {
        "id": "gKJVD8GOc_0D"
      },
      "execution_count": null,
      "outputs": []
    },
    {
      "cell_type": "markdown",
      "source": [
        "### 3.3 사전학습 모델로 cell embedding 얻은 후 UMAP 분석하기"
      ],
      "metadata": {
        "id": "OMKXKsoYCjai"
      }
    },
    {
      "cell_type": "markdown",
      "source": [
        "\n",
        "이 실습에서는 모델 fine-tuning 전후로 test set에 대한 cell embedding이 어떠한 차이가 있는지 비교하겠습니다."
      ],
      "metadata": {
        "id": "M0okO0RQV0iT"
      }
    },
    {
      "cell_type": "markdown",
      "source": [
        "우선 test set cell embedding을 얻은 후 한데 모아줍니다."
      ],
      "metadata": {
        "id": "LPhkUAkIgM9N"
      }
    },
    {
      "cell_type": "code",
      "source": [
        "# Mini-batch 별로 나오는 cell embedding을 아래 리스트에 모을 것입니다.\n",
        "resulting_embeddings = []\n",
        "labels = []\n",
        "# 사전학습 모델을 그대로, 추가 학습 없이 사용할 것이기 때문에\n",
        "# 파라미터 업데이트가 되지 않도록 torch.no_grad()를 설정해줍니다.\n",
        "with torch.no_grad():\n",
        "    for data_dict in tqdm(test_dl, desc=\"Cell embedding 얻는중\"):\n",
        "        input_gene_ids = data_dict[\"gene_ids\"].to(device) # 모델이 GPU에 올라가 있다면 input 텐서도 GPU에 올려야 합니다\n",
        "        src_key_padding_mask = input_gene_ids.eq(vocab[config.pad_token])\n",
        "\n",
        "        embs = model._encode(\n",
        "            src=input_gene_ids,\n",
        "            values=data_dict[\"values\"].to(device),\n",
        "            src_key_padding_mask=src_key_padding_mask\n",
        "        )\n",
        "\n",
        "        cell_emb = model._get_cell_emb_from_layer(embs)\n",
        "        resulting_embeddings.extend(cell_emb.cpu().numpy())\n",
        "        labels.extend(data_dict[\"celltype_labels\"])"
      ],
      "metadata": {
        "id": "ETPvbsL6T3b0"
      },
      "execution_count": null,
      "outputs": []
    },
    {
      "cell_type": "markdown",
      "source": [
        "한데 모은 cell embedding을 UMAP로 시각화하여 cell type 별로 cell embedding이 잘 분류되는지 확인하겠습니다."
      ],
      "metadata": {
        "id": "5QNm534-rLfi"
      }
    },
    {
      "cell_type": "code",
      "source": [
        "# UMAP 하이퍼파라미터를 세팅합니다\n",
        "n_neighbors = 10\n",
        "min_dist = 0.1\n",
        "metric = \"euclidean\"\n",
        "\n",
        "# UMAP으로 차원축소를 실행합니다.\n",
        "umap_reducer = umap.UMAP(n_components=2, n_neighbors=n_neighbors, min_dist=min_dist, metric=metric)\n",
        "umap_results = umap_reducer.fit_transform(resulting_embeddings)\n",
        "\n",
        "unique_labels = list(id2type.values())\n",
        "palette = sns.color_palette(\"hsv\", len(id2type))\n",
        "label_to_color = {id2type[i]: palette[i] for i in range(len(id2type))}\n",
        "\n",
        "\n",
        "# UMAP 결과를 시각화합니다.\n",
        "plt.figure(figsize=(10, 8))\n",
        "for label in unique_labels:\n",
        "    indices = np.where(np.array(labels) == torch.tensor(type2id[label]))[0]\n",
        "    plt.scatter(umap_results[indices, 0], umap_results[indices, 1], s=5, alpha=0.7, label=label)\n",
        "plt.legend(title=\"Cell types\", loc=\"best\", fontsize=\"small\", markerscale=2)\n",
        "plt.title(\"UMAP Visualization of scGPT cell embeddings\")\n",
        "plt.xlabel(\"UMAP Component 1\")\n",
        "plt.ylabel(\"UMAP Component 2\")\n",
        "plt.show()\n"
      ],
      "metadata": {
        "id": "Sy8LbDWHgRzg"
      },
      "execution_count": null,
      "outputs": []
    },
    {
      "cell_type": "markdown",
      "source": [
        "### 3.4 사전학습 모델로 얻은 cell embedding으로 cell type 분류하기"
      ],
      "metadata": {
        "id": "6XIiANe4tgTZ"
      }
    },
    {
      "cell_type": "code",
      "source": [
        "test_labels = test_dl.dataset.data[\"celltype_labels\"].tolist()\n",
        "test_preds = []\n",
        "\n",
        "with torch.no_grad():\n",
        "    for emb in tqdm(resulting_embeddings, desc=\"Cell type 예측\"):\n",
        "        emb = torch.from_numpy(emb).to(device)\n",
        "        pred = model.cls_decoder(emb)\n",
        "        test_preds.append(pred.argmax().item())\n",
        "\n",
        "print()\n",
        "print(f\"Accuracy: {accuracy_score(test_labels, test_preds):.3f}\")\n",
        "print(f\"Recall: {recall_score(test_labels, test_preds, average='macro'):.3f}\")\n",
        "print(f\"Precision: {precision_score(test_labels, test_preds, average='macro'):.3f}\")\n",
        "print(f\"F1 score: {f1_score(test_labels, test_preds, average='macro'):.3f}\")"
      ],
      "metadata": {
        "id": "FWZIhKr3vvK_"
      },
      "execution_count": null,
      "outputs": []
    },
    {
      "cell_type": "markdown",
      "source": [
        "## 4. scGPT fine-tuning 하기\n"
      ],
      "metadata": {
        "id": "nplUbuaYCr1q"
      }
    },
    {
      "cell_type": "markdown",
      "source": [
        "모델이 cell type annotation (classification) task에 더 최적화되도록 fine-tuning 합니다.\n",
        "\n",
        "Transformer와 classifier만 추가로 학습하여 test set에 대해 cell type annotation 성능이 얼마나 증가했는지 확인합니다."
      ],
      "metadata": {
        "id": "pHxOpi3eyXEB"
      }
    },
    {
      "cell_type": "markdown",
      "source": [
        "### 4.1 파라미터 freeze"
      ],
      "metadata": {
        "id": "VjTSKjQwCuMB"
      }
    },
    {
      "cell_type": "markdown",
      "source": [
        "Fine-tuning할 부분을 제외하고 나머지 모델 파라미터는 freeze합니다."
      ],
      "metadata": {
        "id": "dB1HSjLxzPEd"
      }
    },
    {
      "cell_type": "code",
      "source": [
        "# 전체 파라미터 개수를 카운트합니다.\n",
        "pre_freeze_param_count = sum(dict((p.data_ptr(), p.numel()) for p in model.parameters() if p.requires_grad).values())\n",
        "\n",
        "# Transformer와 classifier를 제외한 파라미터를 freeze합니다.\n",
        "for name, para in model.named_parameters():\n",
        "    print(\"-\"*20)\n",
        "    print(f\"name: {name}\")\n",
        "    if config.freeze and \"encoder\" in name and \"transformer_encoder\" not in name:\n",
        "        print(f\"freezing weights for: {name}\")\n",
        "        para.requires_grad = False\n",
        "\n",
        "# 파라미터 freeze 후 학습 가능한 파라미터를 카운트합니다.\n",
        "post_freeze_param_count = sum(dict((p.data_ptr(), p.numel()) for p in model.parameters() if p.requires_grad).values())\n",
        "\n",
        "logger.info(f\"Total Pre freeze Params {(pre_freeze_param_count )}\")\n",
        "logger.info(f\"Total Post freeze Params {(post_freeze_param_count )}\")\n",
        "\n",
        "model.to(device) # 모델을 GPU에 올립니다.\n",
        "wandb.watch(model) # WandB가 모델 학습 사항을 모니터링 하도록 합니다."
      ],
      "metadata": {
        "id": "8wh5Y01Kzkkc"
      },
      "execution_count": null,
      "outputs": []
    },
    {
      "cell_type": "markdown",
      "source": [
        "### 4.2 모델 학습을 위한 요소 준비\n"
      ],
      "metadata": {
        "id": "npEqlAKNCwuD"
      }
    },
    {
      "cell_type": "markdown",
      "source": [
        "\n",
        "모델 학습에 사용할 loss function, optimizer, learning rate scheduler를 준비합니다."
      ],
      "metadata": {
        "id": "87VKilLE1_2O"
      }
    },
    {
      "cell_type": "code",
      "source": [
        "criterion_cls = nn.CrossEntropyLoss()\n",
        "optimizer = torch.optim.Adam(\n",
        "    model.parameters(),\n",
        "    lr=config.lr,\n",
        "    eps=1e-4 if config.amp else 1e-8\n",
        ")\n",
        "scheduler = torch.optim.lr_scheduler.StepLR(\n",
        "    optimizer=optimizer,\n",
        "    step_size=1,\n",
        "    gamma=config.schedule_ratio\n",
        ")\n",
        "scaler = torch.GradScaler(device, enabled=config.amp)"
      ],
      "metadata": {
        "id": "j_QdsnDu2ITD"
      },
      "execution_count": null,
      "outputs": []
    },
    {
      "cell_type": "markdown",
      "source": [
        "### 4.3 모델 학습 및 평가\n"
      ],
      "metadata": {
        "id": "5ljxRPykCyrP"
      }
    },
    {
      "cell_type": "markdown",
      "source": [
        "앞선 세팅에 따라 모델을 fine-tuning 할 수 있는 training loop를 만듭니다.  \n",
        "소스코드의 scgpt.utils.trainer에는 모델 학습 및 평가를 진행하는 `train`과 `evaluate` 함수, 그리고 test set에 대한 inference를 수행하는 `eval_testdata`*가* 구현되어 있습니다."
      ],
      "metadata": {
        "id": "sUWTZo6y2-qs"
      }
    },
    {
      "cell_type": "code",
      "source": [
        "best_val_loss = float(\"inf\")\n",
        "best_avg_bio = 0.0\n",
        "best_model = None\n",
        "define_wandb_metrics()\n",
        "\n",
        "# Epoch 당 약 5분 소요\n",
        "for epoch in range(1, config.epochs + 1):\n",
        "    epoch_start_time = time.time()\n",
        "\n",
        "    if config.do_train:\n",
        "        train(\n",
        "            model=model,\n",
        "            loader=train_dl,\n",
        "            vocab=vocab,\n",
        "            criterion_gep_gepc=None,\n",
        "            criterion_dab=None,\n",
        "            criterion_cls=criterion_cls,\n",
        "            scaler=scaler,\n",
        "            optimizer=optimizer,\n",
        "            scheduler=scheduler,\n",
        "            device=device,\n",
        "            config=config,\n",
        "            logger=logger,\n",
        "            epoch=epoch,\n",
        "        )\n",
        "    val_loss = evaluate(\n",
        "        model=model,\n",
        "        loader=valid_dl,\n",
        "        vocab=vocab,\n",
        "        criterion_gep_gepc=None,\n",
        "        criterion_dab=None,\n",
        "        criterion_cls=criterion_cls,\n",
        "        device=device,\n",
        "        config=config,\n",
        "        epoch=epoch\n",
        "    )\n",
        "    elapsed = time.time() - epoch_start_time\n",
        "    logger.info(\"-\" * 89)\n",
        "    logger.info(\n",
        "        f\"| end of epoch {epoch:3d} | time: {elapsed:5.2f}s | \"\n",
        "        f\"valid loss {val_loss:5.4f} | \"\n",
        "    )\n",
        "    logger.info(\"-\" * 89)\n",
        "\n",
        "    if val_loss < best_val_loss:\n",
        "        best_val_loss = val_loss\n",
        "        best_model = copy.deepcopy(model)\n",
        "        best_model_epoch = epoch\n",
        "        logger.info(f\"Best model with score {best_val_loss:5.4f}\")\n",
        "\n",
        "    if epoch % config.save_eval_interval == 0 or epoch == config.epochs:\n",
        "        logger.info(f\"Saving model to {save_dir}\")\n",
        "        torch.save(best_model.state_dict(), f\"{save_dir}/model_e{best_model_epoch}.pt\")\n",
        "\n",
        "        # eval on testdata\n",
        "        results = eval_testdata(\n",
        "            model = best_model,\n",
        "            adata_t = adata_test,\n",
        "            gene_ids = gene_ids,\n",
        "            vocab = vocab,\n",
        "            config = config,\n",
        "            logger = logger,\n",
        "            include_types=[\"cls\"],\n",
        "        )\n",
        "        results[\"celltype_umap\"].savefig(\n",
        "            f\"{save_dir}/embeddings_celltype_umap[cls]_e{best_model_epoch}.png\", dpi=300\n",
        "        )\n",
        "        metrics_to_log = {\"test/\" + k: v for k, v in results.items()}\n",
        "        metrics_to_log[\"test/celltype_umap\"] = wandb.Image(\n",
        "            f\"{save_dir}/embeddings_celltype_umap[cls]_e{best_model_epoch}.png\",\n",
        "            caption=f\"celltype avg_bio epoch {best_model_epoch}\",\n",
        "        )\n",
        "        metrics_to_log[\"test/best_model_epoch\"] = best_model_epoch\n",
        "        wandb.log(metrics_to_log)\n",
        "        wandb.log({\"avg_bio\": results.get(\"avg_bio\", 0.0)})\n",
        "\n",
        "    scheduler.step()\n",
        "# 모델 실행 후 아래와 같은 에러가 발생한다면 무시합니다.\n",
        "# Error: plotly is required to log interactive plots, install with: `pip install plotly` or convert the plot to an image with `wandb.Image(plt)`"
      ],
      "metadata": {
        "id": "qNzAGK5G4cNq"
      },
      "execution_count": null,
      "outputs": []
    },
    {
      "cell_type": "code",
      "source": [
        "# 최적의 모델을 저장합니다.\n",
        "torch.save(best_model.state_dict(), f\"{save_dir}/best_model.pt\")"
      ],
      "metadata": {
        "id": "_G2_bTBGG4A8"
      },
      "execution_count": null,
      "outputs": []
    },
    {
      "cell_type": "code",
      "source": [
        "artifact = wandb.Artifact(f\"best_model\", type=\"model\")\n",
        "glob_str = f\"{save_dir}/best_model.pt\"\n",
        "artifact.add_file(glob_str)\n",
        "run.log_artifact(artifact)\n",
        "\n",
        "run.finish()\n",
        "wandb.finish()\n",
        "gc.collect()"
      ],
      "metadata": {
        "id": "FK0foUjUHVk5"
      },
      "execution_count": null,
      "outputs": []
    },
    {
      "cell_type": "markdown",
      "source": [
        "# 실습 2. Multiomic data integration\n",
        "\n",
        "실습 목표: Paired RNA-protein 데이터셋으로 fine-tuning하여 **gene expression 및 protein abundance를 예측**하고, 예측값을 바탕으로 **cell type에 따른 clustering 성능이 개선**되었는지 확인하기\n",
        "\n",
        "차례\n",
        "1. 하이퍼파라미터 세팅\n",
        "1. 데이터 불러오기 및 전처리\n",
        "1. 사전학습 된 scGPT 모델 사용하기\n",
        "1. scGPT fine-tuning 하기"
      ],
      "metadata": {
        "id": "s1mzgi8PA_wZ"
      }
    },
    {
      "cell_type": "markdown",
      "source": [
        "## 1. 하이퍼파라미터 세팅"
      ],
      "metadata": {
        "id": "QfkMyXK1EWLW"
      }
    },
    {
      "cell_type": "markdown",
      "source": [
        "Multiomic 데이터의 경우 cell type annotation과는 다른 fine-tuning objective를 가집니다. Multiomic task에 적합한 하이퍼파라미터를 세팅해줍니다.\n",
        "\n",
        "하이퍼파라미터는 학습되는 파라미터가 아닌, 사용자가 직접 설정해 주어야 하는 값들을 의미합니다.\n",
        "\n",
        "| 이름                 | Type                     | 설명                                                                       \n",
        "|------------------------|--------------------------|----------------------------------------------------------------------------|\n",
        "| `seed`            | `int`                    | 모델 초기화 시드                                              |\n",
        "| `do_train`           | `bool`                    | 학습을 통해 모델의 파라미터 업데이트 여부                                                                 |\n",
        "| `load_model`              | `str`                    | 사전학습된 모델의 파라미터가 들어있는 모델 경로                                                       |\n",
        "| `GEP`               | `bool`                    | Fine-tuning objective 1: gene expression prediction 여부                                             |\n",
        "| `GEPC`              | `bool`                    | Fine-tuning objective 2: GEP for cell modeling 여부                                                             |\n",
        "| `CLS`                | `bool`                    | Fine-tuning objective 3: cell type classification 여부                                                 |\n",
        "| `ESC`              | `bool`                  | Fine-tuning objective 4: elastic cell similarity 여부                     |\n",
        "| `DAR`         | `bool`                    | Fine-tuning objective 5: domain adaptation via reverse back propagation 여부                                                   |\n",
        "| `DSBN`           | `bool`                    | Fine-tuning objective 6: domain-specific batch normalization 여부                                                   |\n",
        "| `ecs_thres`            | `float \\| int`                    | ECS task에서의 similarity threshold, ECS 미수행 시 0                                                 |\n",
        "| `dab_weight`           | `float \\| int`                    | Domain adaptation loss 비율                                                                 |\n",
        "| `use_batch_labels`          | `bool`                   | Batch embedding 사용 여부                                                  |\n",
        "| `use_mod`               | `bool` | Modality token 사용 여부, multi-modality input 사용 시 True                                            |\n",
        "| `mask_ratio` | `float`                   | MLM에서 masking 비율                                                         |\n",
        "| `explicit_zero_prob` | `bool`                   | 확률적으로 특정 gene에 대한 발현량을 0으로 맞춰줄 것인지 여부                                                         |\n",
        "| `per_seq_batch_sample` | `bool`                   | 모델 학습을 위한 mini-batch를 만들 때, 한 mini-batch에는 같은 scRNA-seq batch로부터 나온 데이터로만 구성할지 여부                                                         |\n",
        "| `epochs` | `int`                   | Training epoch 수                                                         |\n",
        "| `input_layer_key` | `str`                   | AnnData 객체의 layer 중 model input으로 사용할 layer                                                         |\n",
        "| `n_bins` | `int`                   | Value binning 기법에서 사용할 bin 수                                                         |\n",
        "| `n_hvg` | `int` | 원본 데이터 중 HVG 몇 개만 선별하여 사용할 지 설정 |\n",
        "| `max_seq_len` | `int` | Default n_hvg + 1 |\n",
        "| `lr` | `float` | 학습률 |\n",
        "| `batch_size` | `int` | Mini-batch 크기 |\n",
        "| `layer_size` | `int` | Embedding vector의 dimension 수 |\n",
        "| `nlayers` | `int` | Transformer 모델의 encoder layer 수 |\n",
        "| `nhead` | `int` | Multi-head attention에서 사용할 head 수 |\n",
        "| `dropout` | `float` | MLP에 적용할 dropout 비율 |\n",
        "| `schedule_ratio` | `float` | 학습률 scheduler에 사용할 learning rate decay 비율 |\n",
        "| `save_eval_interval` | `int` | 몇 epoch마다 학습된 파라미터를 파일로 저장할지 지정 |\n",
        "| `log_interval` | `int` | 학습 상황 logging을 몇 mini-batch마다 할 것인지 지정 |\n",
        "| `fast_transformer` | `bool` | FlashAttention 사용 여부 |\n",
        "| `pre_norm` | `bool` | LayerNorm을 self-attention 및 feed-forward 모듈 전에 적용할 것인지 여부 |\n",
        "| `amp` | `bool` | Mixed precision learning 적용 여부, 사용 시 연산 효율성과 학습 성능을 향상 |\n",
        "| `pad_token` | `str` | Vocab에 pad token이 어떻게 저장되어있는지 작성 |\n",
        "| `mask_value` | `int` | Mask token index |\n",
        "| `pad_value` | `int` | Pad token index |\n",
        "| `include_zero_gene` | `bool` | 발현량이 0인 gene도 포함할지 여부 |\n",
        "| `freeze` | `bool` | Fine-tuning 시 인코더 freeze 여부 |"
      ],
      "metadata": {
        "id": "4kOGIGJnDhyo"
      }
    },
    {
      "cell_type": "code",
      "source": [
        "hyperparameters = {\n",
        "    \"task\": \"multiomic\",\n",
        "    \"seed\": 42,\n",
        "    \"dataset_name\": \"BMMC\",\n",
        "    \"do_train\": True,\n",
        "    \"load_model\": \"./scgpt/model\",\n",
        "    ## 코드 시작 ##\n",
        "    ## 아래 fine-tuning objective (GEP-DSBN) 중 이번 실습에서 사용할 objective를 boolean으로 표시해주세요.\n",
        "    ## None 대신 각 기준에 올바른 값들을 넣어주세요\n",
        "    \"GEP\": None,\n",
        "    \"GEPC\": None,\n",
        "    \"CLS\": None,\n",
        "    \"ESC\": None,\n",
        "    \"DAR\": None,\n",
        "    \"DSBN\": None,\n",
        "    \"ecs_thres\": None, # ECS가 fine-tuning objective인 경우 cell similarity threshold를 0.8로 지정해주고, objective가 아닌 경우 0으로 설정\n",
        "    \"dab_weight\": None, # DAR이 fine-tuning objective인 경우 domain adaptation loss 적용 비율을 1.0으로 지정해주고, objective가 아닌 경우 0으로 설정\n",
        "    \"use_batch_labels\": None,\n",
        "    \"use_mod\": None,\n",
        "    \"mask_ratio\": None, # Mask를 적용하려면 0.4로, 아니면 0으로 세팅합니다.\n",
        "    ## 코드 종료 ##\n",
        "    \"explicit_zero_prob\": False,\n",
        "    \"per_seq_batch_sample\": False,\n",
        "    \"epochs\": 2,\n",
        "    \"input_layer_key\": \"X_binned\",\n",
        "    \"n_bins\": 51,\n",
        "    \"n_hvg\": 1200,\n",
        "    \"n_hvp\": 4000,\n",
        "    \"max_seq_len\": 4001,\n",
        "    \"lr\": 1e-3,\n",
        "    \"batch_size\": 16,\n",
        "    \"layer_size\": 512,\n",
        "    \"nlayers\": 4,\n",
        "    \"nhead\": 8,\n",
        "    \"dropout\": 0.2,\n",
        "    \"schedule_ratio\": 0.95,\n",
        "    \"save_eval_interval\": 5,\n",
        "    \"log_interval\": 100,\n",
        "    \"fast_transformer\": False,\n",
        "    \"pre_norm\": False,\n",
        "    \"amp\": True,\n",
        "    \"pad_token\": \"<pad>\",\n",
        "    \"mask_value\": -1,\n",
        "    \"pad_value\": -2,\n",
        "    \"include_zero_gene\": False,\n",
        "}"
      ],
      "metadata": {
        "id": "knyGHzElEZQ7"
      },
      "execution_count": null,
      "outputs": []
    },
    {
      "cell_type": "code",
      "source": [
        "run = wandb.init(\n",
        "    config=hyperparameters,\n",
        "    project=\"scGPT2\",\n",
        "    reinit=True,\n",
        "    settings=wandb.Settings(start_method=\"fork\")\n",
        ")\n",
        "config = wandb.config\n",
        "print(config)\n",
        "\n",
        "set_seed(config.seed)"
      ],
      "metadata": {
        "id": "mUNxIOo7Etxx"
      },
      "execution_count": null,
      "outputs": []
    },
    {
      "cell_type": "code",
      "source": [
        "# wandb를 통해 모델 학습 사항이 기록됨에 따라 이를 기록할 경로를 지정해줍니다.\n",
        "save_dir = f\"./save/dev_BMMC-{time.strftime('%b%d-%H-%M')}\"\n",
        "os.makedirs(save_dir)\n",
        "add_file_handler(logger, save_dir + \"/run.log\")"
      ],
      "metadata": {
        "id": "hSsDACtZEzaJ"
      },
      "execution_count": null,
      "outputs": []
    },
    {
      "cell_type": "markdown",
      "source": [
        "## 2. 데이터 불러오기 및 전처리"
      ],
      "metadata": {
        "id": "nanRzz-BE2X4"
      }
    },
    {
      "cell_type": "markdown",
      "source": [
        "### 2.1 BMMC dataset 불러오기"
      ],
      "metadata": {
        "id": "VRqiXKAcHt9e"
      }
    },
    {
      "cell_type": "markdown",
      "source": [
        "Bone marrow mononuclear cell (BMMC) dataset란 CITE-seq으로 측정한 gene expression 및 protein abundance 데이터셋입니다. ([Luecken et al., *NeurIPS* 2021](https://openreview.net/forum?id=gN35BGa1Rt))  \n",
        "Paired dataset이기 때문에 모든 cell에 대해 gene expression과 protein abundance가 모두 주어져 있습니다.  \n",
        "데이터셋 구성은 아래와 같습니다.\n",
        "- 12 donors: healthy samples, 한 샘플당 batch 1개로 총 12 batches\n",
        "- 90,261 cells\n",
        "- 13,953 genes, 134 surface proteins\n",
        "- 45 immune cell subtypes\n",
        "\n",
        "이번 예시 코드에서는 시간 단축을 위해 3명의 샘플, 12,000개의 cell, 17가지의 cell subtype (B cell, T cell, monocyte)만 사용할 예정입니다."
      ],
      "metadata": {
        "id": "EGuTWLOgE7ig"
      }
    },
    {
      "cell_type": "code",
      "source": [
        "# h5ad 형식으로 저장된 데이터셋을 확인해줍니다.\n",
        "dataset_path = \"./scGPT_dataset/multiomics/BMMC_processed.h5ad\"\n",
        "\n",
        "adata = sc.read_h5ad(dataset_path)\n",
        "print(\"X\")\n",
        "display(adata.to_df())\n",
        "print(\"obs\")\n",
        "display(adata.obs)\n",
        "print(\"var\")\n",
        "display(adata.var)"
      ],
      "metadata": {
        "id": "LoerrZZvFAg8"
      },
      "execution_count": null,
      "outputs": []
    },
    {
      "cell_type": "code",
      "source": [
        "adata.obs[\"celltype\"] = adata.obs[\"cell_type\"].astype(str).astype(\"category\")\n",
        "adata.var[\"gene_name\"] = adata.var.index.tolist()"
      ],
      "metadata": {
        "id": "uCEReTqUH87p"
      },
      "execution_count": null,
      "outputs": []
    },
    {
      "cell_type": "code",
      "source": [
        "# Batch(샘플) 이름을 ID 값으로 전환해줍니다.\n",
        "le = preprocessing.LabelEncoder()\n",
        "encoded_batch = le.fit_transform(adata.obs[\"batch\"].values)\n",
        "adata.obs[\"batch_id\"] = encoded_batch\n",
        "adata.obs[\"str_batch\"] = adata.obs[\"batch_id\"].astype(\"category\")\n",
        "\n",
        "## 코드 시작 ##\n",
        "# Gene expression 데이터와 protein abundance 데이터를 구분하여 저장해 줍니다.\n",
        "# Expression에 대한 metadata에 gene expression은 GEX로, protein abundance는 ADT(antibody-derived tags)로 표시되어 있습니다.\n",
        "adata_protein = None\n",
        "\n",
        "# adata_protein의 index는 기존의 gene index 이름 앞에 \"p_\"를 붙여 지정해줍니다.\n",
        "# ex> CD86 -> p_CD86\n",
        "\n",
        "###################################\n",
        "## 이 박스 위치에 코드를 작성해주세요 ##\n",
        "###################################\n",
        "\n",
        "# 나머지 gene expression은 adata 변수에 저장해줍니다.\n",
        "adata = None\n",
        "## 코드 종료 ##\n",
        "\n",
        "# 별도의 Pandas DataFrame에 data modality에 대한 정보를 저장해줍니다.\n",
        "gene_rna_df = pd.DataFrame(index=adata.var.index.tolist())\n",
        "gene_rna_df[\"mod\"] = \"RNA\"\n",
        "gene_protein_df = pd.DataFrame(index=adata_protein.var.index.tolist())\n",
        "gene_protein_df[\"mod\"] = \"Protein\"\n",
        "gene_loc_df = pd.concat([gene_rna_df, gene_protein_df])\n",
        "gene_loc_df[\"mod\"] = gene_loc_df[\"mod\"].astype(\"category\")"
      ],
      "metadata": {
        "id": "2zw5DvrZIIXZ"
      },
      "execution_count": null,
      "outputs": []
    },
    {
      "cell_type": "markdown",
      "source": [
        "### 2.2 Gene set cross-check\n",
        "모델 사전학습에 사용한 gene set과 사용하려는 데이터셋의 gene set을 비교해줍니다."
      ],
      "metadata": {
        "id": "HBk2VqQALbjm"
      }
    },
    {
      "cell_type": "code",
      "source": [
        "vocab_file = \"./scgpt/model/vocab.json\"\n",
        "\n",
        "with open(vocab_file, 'r') as f:\n",
        "    vocab = json.load(f)\n",
        "\n",
        "# <pad>, <eoc> 등 special token을 vocab에 추가해줍니다.\n",
        "max_vocab_idx = max(list(vocab.values()))\n",
        "for s in special_tokens:\n",
        "    if s not in vocab:\n",
        "        max_vocab_idx += 1\n",
        "        vocab[s] = max_vocab_idx\n",
        "\n",
        "# BMMC 데이터셋의 gene 중 사전학습 vocab에 있는 gene과 없는 gene을 구분해줍니다.\n",
        "adata.var[\"id_in_vocab\"] = [1 if gene in vocab else -1 for gene in adata.var[\"gene_name\"]]\n",
        "gene_ids_in_vocab = np.array(adata.var[\"id_in_vocab\"])\n",
        "\n",
        "logger.info(\n",
        "    f\"Vocab size: {len(vocab)}\\n\"\n",
        "    f\"데이터셋 내에 있는 gene 수: {len(gene_ids_in_vocab)}\\n\"\n",
        "    f\"데이터셋 내에 있는 gene 중 vocab에 있는 gene 수: {np.sum(gene_ids_in_vocab >= 0)}\"\n",
        ")\n",
        "\n",
        "old_vocab = Vocab({token: i for i, token in enumerate(vocab)}, default_index=vocab[\"<pad>\"])"
      ],
      "metadata": {
        "id": "HfmG17kLLd7G"
      },
      "execution_count": null,
      "outputs": []
    },
    {
      "cell_type": "markdown",
      "source": [
        "### 2.3 데이터 전처리"
      ],
      "metadata": {
        "id": "6Esnzq_KL5Et"
      }
    },
    {
      "cell_type": "markdown",
      "source": [
        "이 실습에서는 scRNA-seq과 protein의 multi-modal 데이터를 다루기 때문에 RNA 데이터와 protein 데이터에 대해 각각 별도의 전처리를 거쳐줍니다."
      ],
      "metadata": {
        "id": "R9aB-7UML-_X"
      }
    },
    {
      "cell_type": "code",
      "source": [
        "# scRNA-seq 데이터에 대한 전처리를 수행합니다.\n",
        "preprocessor_rna = Preprocessor(\n",
        "    use_key='X',\n",
        "    filter_gene_by_counts=1,\n",
        "    filter_cell_by_counts=1,\n",
        "    normalize_total=1e4,\n",
        "    result_normed_key=\"X_normed\",\n",
        "    log1p=False,\n",
        "    result_log1p_key=None,\n",
        "    subset_hvg=config.n_hvg,\n",
        "    hvg_flavor=\"cell_ranger\",\n",
        "    binning=config.n_bins,\n",
        "    result_binned_key=\"X_binned\"\n",
        ")\n",
        "\n",
        "preprocessor_rna(adata, batch_key=None)"
      ],
      "metadata": {
        "id": "tlqPQu0hMDte"
      },
      "execution_count": null,
      "outputs": []
    },
    {
      "cell_type": "code",
      "source": [
        "preprocessor_prot = Preprocessor(\n",
        "    use_key='X',\n",
        "    filter_gene_by_counts=0,\n",
        "    filter_cell_by_counts=False,\n",
        "    normalize_total=False,\n",
        "    result_normed_key=None,\n",
        "    log1p=False,\n",
        "    result_log1p_key=None,\n",
        "    subset_hvg=False,\n",
        "    hvg_flavor=None,\n",
        "    binning=config.n_bins,\n",
        "    result_binned_key=\"X_binned\"\n",
        ")\n",
        "\n",
        "preprocessor_prot(adata_protein, batch_key=None)"
      ],
      "metadata": {
        "id": "rgwkCEgDMTDi"
      },
      "execution_count": null,
      "outputs": []
    },
    {
      "cell_type": "code",
      "source": [
        "# 전처리 된 두 데이터를 합쳐줍니다.\n",
        "data_combined = np.concatenate([adata.layers[\"X_binned\"], adata_protein.layers[\"X_binned\"]], axis=1)\n",
        "adata = AnnData(\n",
        "    X=data_combined,\n",
        "    obs=adata.obs,\n",
        "    var=pd.DataFrame(index=adata.var_names.tolist() + adata_protein.var_names.tolist()),\n",
        "    layers={\"X_binned\": data_combined,}\n",
        ")\n",
        "adata.var[\"gene_name\"] = adata.var.index.tolist()"
      ],
      "metadata": {
        "id": "PVMf3i-eM4F-"
      },
      "execution_count": null,
      "outputs": []
    },
    {
      "cell_type": "markdown",
      "source": [
        "### 2.4 입력 데이터 토큰화 및 패딩"
      ],
      "metadata": {
        "id": "0VOFpQjGNQW3"
      }
    },
    {
      "cell_type": "code",
      "source": [
        "## 코드 시작 ##\n",
        "## 토큰화를 위해 필요한 데이터를 준비하는 코드를 작성하세요\n",
        "input_layer_key = None\n",
        "all_counts = None\n",
        "genes = None\n",
        "\n",
        "celltypes_labels = None\n",
        "num_types = None\n",
        "celltypes_labels = None\n",
        "\n",
        "batch_ids = None\n",
        "num_batch_types = None\n",
        "batch_ids = None\n",
        "## 코드 종료 ##"
      ],
      "metadata": {
        "id": "Yp6LO9n7Rb8z"
      },
      "execution_count": null,
      "outputs": []
    },
    {
      "cell_type": "markdown",
      "source": [
        "Multiomic data integration task에서는 데이터의 modality를 구분해주는 modality token이 추가로 들어가게 됩니다.\n",
        "\n",
        "Modality token은 modality type, 즉 gene expression(GEX)인지 protein abundance(ADT)인지를 구분해주기 때문에, 데이터에 있는 modality type을 vocab으로 사용합니다."
      ],
      "metadata": {
        "id": "A9eM0faETr3l"
      }
    },
    {
      "cell_type": "code",
      "source": [
        "## 코드 시작 ##\n",
        "## Modality token을 vocab에 추가하는 코드를 작성합니다.\n",
        "## 1.  각 gene 혹은 protein 별 modality가 무엇인지 리스트업하여 NumPy array 형태로 저장합니다.\n",
        "mod_type = None\n",
        "\n",
        "## 2. Modality vocab을 구축 후 Vocab 객체로 만들어줍니다.\n",
        "vocab_mod = None\n",
        "\n",
        "## 3. 각 gene 혹은 protein 별 modality를 ID로 전환하여 NumPy array 형태로 저장합니다.\n",
        "mod_type = None\n",
        "\n",
        "## 4. ntoken_mod 변수에 modality token 총 개수를 저장합니다.\n",
        "ntokens_mod = None\n",
        "## 코드 종료 ##"
      ],
      "metadata": {
        "id": "_ZGxBbKiUCas"
      },
      "execution_count": null,
      "outputs": []
    },
    {
      "cell_type": "markdown",
      "source": [
        "이번에도 입력 데이터를 train set과 validation set으로 나눕니다."
      ],
      "metadata": {
        "id": "0b71aoR0XorM"
      }
    },
    {
      "cell_type": "code",
      "source": [
        "## 코드 시작 ##\n",
        "## train_test_split 함수로 데이터셋을 train set과 validatin set으로 나눕니다.\n",
        "(\n",
        "    train_data,\n",
        "    valid_data,\n",
        "    train_celltype_labels,\n",
        "    valid_celltype_labels,\n",
        "    train_batch_labels,\n",
        "    valid_batch_labels,\n",
        ") = train_test_split(None)\n",
        "## 코드 종료 ##"
      ],
      "metadata": {
        "id": "IOWyrd86ca6J"
      },
      "execution_count": null,
      "outputs": []
    },
    {
      "cell_type": "markdown",
      "source": [
        "scGPT는 gene 단위의 input으로 사전학습된 모델인 만큼, multiomic data input이 들어오면 gene과는 다른 modality의 feature가 토큰으로 들어오게 됩니다.  \n",
        "따라서 모델이 새롭게 input으로 받은 토큰, 즉 protein을 vocab으로 등록하여, 새 토큰에 대한 의미를 학습할 수 있도록 해야 합니다."
      ],
      "metadata": {
        "id": "Yk7yN1jCH7Q_"
      }
    },
    {
      "cell_type": "code",
      "source": [
        "## 코드 시작 ##\n",
        "## 사용하는 데이터에 존재하는 모든 gene을 vocab으로 등록해줍니다.\n",
        "pretrained_genes = None\n",
        "new_genes = None\n",
        "## 사전학습 된 gene들을 ID 값으로 전환 후 NumPy array 형태로 저장합니다.\n",
        "gene_ids_pretrained = None\n",
        "\n",
        "total_gene_set = None\n",
        "\n",
        "## vocab은 Vocab 객체로 만들어줍니다.\n",
        "vocab = None\n",
        "\n",
        "## 모든 gene을 ID 값으로 전환 후 NumPy array 형태로 저장합니다.\n",
        "gene_ids = None\n",
        "## 코드 종료 ##"
      ],
      "metadata": {
        "id": "1bTG0hTHcdRV"
      },
      "execution_count": null,
      "outputs": []
    },
    {
      "cell_type": "markdown",
      "source": [
        "`tokenize_and_pad_batch` 함수로 train set과 validation set에 대한 토큰화를 수행합니다. 해당 함수의 인자는 아래와 같습니다.\n",
        "\n",
        "| 인자  | Type | 설명  \n",
        "|------------------------|--------------------------|----------------------------------------------------------------------------|\n",
        "| `data` | `np.ndarray` | 토큰화할 입력 데이터 |\n",
        "| `gene_ids` | `np.ndarray` | 각 gene의 ID 값이 담긴 NumPy array  |\n",
        "| `max_len` | `int` | 최대 gene의 개수 |\n",
        "| `vocab` | `scgpt.utils.tokenizer.Vocab` | 토큰화에 사용할 vocab |\n",
        "| `pad_token` | `str` | Pad token은 어떻게 표현할 것인가 |\n",
        "| `pad_value` | `str` | Pad token이 있는 자리는 ID를 어떻게 표현할 것인가 |\n",
        "| `append_cls` | `bool` | CLS token (cell embedding)의 사용 여부 |\n",
        "| `include_zero_gene` | `bool` | 발현량이 0으로 기록된 gene도 토큰화에 사용할 것인지 여부 |\n",
        "| `cls_token` | `str` | CLS 토큰은 어떻게 표현할 것인가 |\n",
        "| `return_pt` | `bool` | 토큰화된 데이터를 PyTorch tensor로 받을 것인지, False인 경우 NumPy array로 받음 |\n",
        "| `mod_type` | `np.ndarray \\| None` | Data modality를 ID값으로 나타낸 NumPy array, multiomic data integration에만 사용하므로, multioic task가 아닌 경우에는 None |\n",
        "| `vocab_mod` | `scgpt.utils.tokenizer.Vocab \\| None` | Modality token에 대한 vocab, multiomic data integration에만 사용하므로, multioic task가 아닌 경우에는 None |"
      ],
      "metadata": {
        "id": "l29b7mQt5LPQ"
      }
    },
    {
      "cell_type": "code",
      "source": [
        "## 코드 시작 ##\n",
        "## Train set과 validation set에 대해 토큰화합니다.\n",
        "tokenized_train = tokenize_and_pad_batch(None)\n",
        "tokenized_valid = tokenize_and_pad_batch(None)\n",
        "## 코드 종료 ##\n",
        "\n",
        "logger.info(\n",
        "    f\"Train set 샘플 개수: {tokenized_train['genes'].shape[0]},\"\n",
        "    f\"feature length: {tokenized_train['genes'].shape[1]}\"\n",
        ")\n",
        "logger.info(\n",
        "    f\"Validation set 샘플 개수: {tokenized_valid['genes'].shape[0]},\"\n",
        "    f\"Feature length: {tokenized_valid['genes'].shape[1]}\"\n",
        ")\n",
        "\n",
        "print(tokenized_train)\n",
        "print(tokenized_valid)"
      ],
      "metadata": {
        "id": "5yJRe0CBcecZ"
      },
      "execution_count": null,
      "outputs": []
    },
    {
      "cell_type": "markdown",
      "source": [
        "## 3. 사전학습 된 scGPT 모델 불러온 후 fine-tuning 하기"
      ],
      "metadata": {
        "id": "sb5gu3Hrf5qv"
      }
    },
    {
      "cell_type": "markdown",
      "source": [
        "### 3.1 모델 불러오기"
      ],
      "metadata": {
        "id": "hU1sII4HgxUN"
      }
    },
    {
      "cell_type": "markdown",
      "source": [
        "Multiomic task를 위한 모델은 multimodal data input에 특화된 `MultiOmicTransformerModel`로 구현되어 있습니다. 해당 모델 세팅을 위해 필요한 인자는 아래와 같습니다.\n",
        "\n",
        "| 인자  | Type | 설명  \n",
        "|------------------------|--------------------------|----------------------------------------------------------------------------|\n",
        "| `ntoken` | `int` | 입력 데이터의 토큰 수 |\n",
        "| `d_model` | `int` | 임베딩 벡터의 차원 수  |\n",
        "| `nhead` | `int` | Multi-head attention 모듈에서 헤드 수 |\n",
        "| `d_hid` | `int` | Transformer의 feed-forward layer에서 hidden dimension 수 |\n",
        "| `nlayers` | `int` | Transformer encoder의 layer 수 |\n",
        "| `nlayers_cls` | `int` | Classifier로 사용할 MLP의 layer 수 |\n",
        "| `n_cls` | `int` | 예측하려는 class의 총 가짓수 |\n",
        "| `vocab` | `scgpt.utils.tokenizer.Vocab` | 사용할 데이터에 따라 구축된 vocab |\n",
        "| `dropout` | `float` | Transformer encoder에 있는 MLP layer에 대한 dropout 비율 |\n",
        "| `pad_token` | `str` | Pad token이 어떻게 나타나있는지 |\n",
        "| `pad_value` | `int` | Pad token에 대한 index |\n",
        "| `do_mvc` | `bool` | Cell embedding에 대한 masked token prediction 수행 여부 |\n",
        "| `do_dab` | `bool` | Domain adaptation을 위한 학습 여부 |\n",
        "| `use_batch_labels` | `bool` | Batch label 사용 여부 |\n",
        "| `num_batch_labels` | `int \\| None` | Batch label 총 개수, batch label 미사용 시 None |\n",
        "| `domain_spec_batchnorm` | `bool \\| Literal['dsbn', 'batchnorm']` | Batch normalization을 수행하는 방식, domain-specific하게 할 것인지, 일반 batch norm을 적용할 것인지 선택 가능 |\n",
        "| `input_emb_style` | `bool \\| Literal['category', 'continuous', 'scaling']` | Embedding 값이 어떻게 구성되어있는지 입력 |\n",
        "| `cell_emb_style` | `Literal['cls', 'avg-pool', 'w-pool']` | Cell embedding을 어떤 방식으로 구성할지 입력 |\n",
        "| `mvc_decoder_style` | `Literal['inner_product', 'concat_query', 'sum_query']` | Gene expression prediction 시 Transformer decoder에서 query와 key간 attention 계산 방식 |\n",
        "| `n_input_bins` | `str` | Input 데이터의 bin 개수 |\n",
        "| `ecs_threshold` | `float` | ECS 수행 시 similarity threshold 값 |\n",
        "| `explicit_zero_prob` | `float` | 확률적으로 특정 gene에 대한 발현량을 0으로 맞춰줄 것인지 여부 |\n",
        "| `use_fast_transformer` | `bool` | 빠른 Transformer 연산을 위한 flash attention 사용 여부 |\n",
        "| `fast_transformer_backend` | `Literal['linear', 'flash']` | 어떤 툴로 fast Transformer를 수행할지 |\n",
        "| `pre_norm` | `bool` | LayerNorm을 self-attention 및 feed-forward 모듈 전에 적용할 것인지 여부 |\n",
        "| `use_mod` | `bool` | Multimodal input 사용 여부 |\n",
        "| `ntokens_mod` | `int \\| None` | Modality token 총 개수, multimodal input 미사용 시 None |\n",
        "| `vocab_mod` | `Vocab \\| None` | Modality token vocab |"
      ],
      "metadata": {
        "id": "Vvk4hcI7gzaM"
      }
    },
    {
      "cell_type": "code",
      "source": [
        "## 코드 시작 ##\n",
        "## Multiomic task를 위한 모델을 초기화합니다.\n",
        "device = \"cuda\" if torch.cuda.is_available() else \"cpu\"\n",
        "model_dict = torch.load(\"./scgpt/model/best_model.pt\")\n",
        "\n",
        "ntokens = None\n",
        "embsize = None\n",
        "nhead = None\n",
        "nlayers = None\n",
        "d_hid = None\n",
        "\n",
        "model = MultiOmicTransformerModel(None)\n",
        "## 코드 종료 ##\n",
        "\n",
        "## 사전 학습된 모델의 파라미터를 불러옵니다.\n",
        "with torch.no_grad():\n",
        "    pretrained_emb_weights = model_dict['encoder.embedding.weight'][gene_ids_pretrained, :]\n",
        "    model.encoder.embedding.weight.data[:len(pretrained_genes), :] = pretrained_emb_weights\n",
        "    model.encoder.enc_norm.weight.data = model_dict['encoder.enc_norm.weight']\n",
        "\n",
        "model.to(device)\n",
        "print(model)"
      ],
      "metadata": {
        "id": "AK9K5j-HgBbo"
      },
      "execution_count": null,
      "outputs": []
    },
    {
      "cell_type": "markdown",
      "source": [
        "Multiomics task에서는 모델의 모든 파라미터를 fine-tuning할 예정입니다. 따라서 일부 파라미터를 freeze하는 과정은 생략하겠습니다."
      ],
      "metadata": {
        "id": "fFjkfRFp7wIY"
      }
    },
    {
      "cell_type": "markdown",
      "source": [
        "### 3.2 모델 학습을 위한 요소 준비"
      ],
      "metadata": {
        "id": "CyNFH71_iVzc"
      }
    },
    {
      "cell_type": "markdown",
      "source": [
        "모델 학습에 사용할 loss function, optimizer, learning rate scheduler를 준비합니다."
      ],
      "metadata": {
        "id": "YRTDUbtu9iMw"
      }
    },
    {
      "cell_type": "code",
      "source": [
        "# MLM MSE loss에 사용할 loss function을 정의합니다.\n",
        "def masked_mse_loss(input, target, mask):\n",
        "    mask = mask.float()\n",
        "    loss = F.mse_loss(input * mask, target * mask, reduction=\"sum\")\n",
        "\n",
        "    return loss / mask.sum()\n",
        "\n",
        "criterion_gep_gepc = masked_mse_loss"
      ],
      "metadata": {
        "id": "Q08hTK9W9nBU"
      },
      "execution_count": null,
      "outputs": []
    },
    {
      "cell_type": "code",
      "source": [
        "# Domain adaptation을 위해 cross entropy loss를 사용합니다.\n",
        "criterion_dab = nn.CrossEntropyLoss()\n",
        "\n",
        "# Optimizer와 scheduler를 정의합니다.\n",
        "optimizer = torch.optim.Adam(\n",
        "    model.parameters(),\n",
        "    lr=config.lr,\n",
        "    eps=1e-4 if config.amp else 1e-8\n",
        ")\n",
        "scheduler = torch.optim.lr_scheduler.StepLR(\n",
        "    optimizer=optimizer,\n",
        "    step_size=1,\n",
        "    gamma=config.schedule_ratio\n",
        ")\n",
        "scaler = torch.GradScaler(device, enabled=config.amp)"
      ],
      "metadata": {
        "id": "PZ8ePUF4-hAP"
      },
      "execution_count": null,
      "outputs": []
    },
    {
      "cell_type": "markdown",
      "source": [
        "앞선 task와 동일한 방식으로 `prepare_data` 함수로 텐서를 만들고, `SeqDataset` 인스턴스를 만들어준 뒤, `DataLoader` 인스턴스를 만들어줍니다."
      ],
      "metadata": {
        "id": "5BjS1w1gjOeO"
      }
    },
    {
      "cell_type": "markdown",
      "source": [
        "### 3.3 PyTorch DataLoader 인스턴스 만들고, 모델 학습 및 평가하기"
      ],
      "metadata": {
        "id": "NnoeL6MI_W9m"
      }
    },
    {
      "cell_type": "markdown",
      "source": [
        "Multiomic task에는 gene expression prediction을 수반하기 때문에 training epoch이 한 번 진행될 때마다 token random masking이 이루어집니다.  \n",
        "이에 따라 서로 다른 토큰이 mask 토큰으로 대체되기 때문에 그 때마다 DataLoader를 새로 정의해 주어야 합니다.\n",
        "\n",
        "Training loop 내부에서 random masking 및 DataLoader 인스턴스 생성을 실습하겠습니다."
      ],
      "metadata": {
        "id": "c75WJTnY_jBQ"
      }
    },
    {
      "cell_type": "code",
      "source": [
        "## 코드 시작 ##\n",
        "## 토큰화된 데이터를 텐서 형태로 변환한 후 그 형태를 확인해줍니다.\n",
        "## 이 코드는 모델 학습에 필수적으로 필요한 코드는 아니며,\n",
        "## cell type annotation에 사용되는 input과 형태가 어떻게 다른지 확인하기 위해 추가한 코드입니다.\n",
        "## 힌트: epoch은 아무 정수나 입력해도 좋습니다.\n",
        "train_data_pt, valid_data_pt = prepare_data(None)\n",
        "\n",
        "print(train_data_pt)\n",
        "## 앞선 실습과 다르게 mod_types라는 key에 modality token이 추가되어 있음을 확인할 수 있습니다.\n",
        "## 코드 종료 ##"
      ],
      "metadata": {
        "id": "SiVw-Z4xCFIQ"
      },
      "execution_count": null,
      "outputs": []
    },
    {
      "cell_type": "code",
      "source": [
        "best_val_loss = float(\"inf\")\n",
        "best_avg_bio = 0.0\n",
        "best_model = None\n",
        "\n",
        "for epoch in range(1, config.epochs + 1):\n",
        "    epoch_start_time = time.time()\n",
        "    ## 코드 시작 ##\n",
        "    ## 1. Training loop 내부에서 데이터를 텐서 형태로 변환한 후\n",
        "    ##    DataLoader 인스턴스를 만들어 줍니다.\n",
        "\n",
        "    ## 앞선 실습에서 사용한 prepare_data 함수를 사용하면\n",
        "    ## 내부적으로 random masking을 수행한 train 및 validation 데이터를 내보내줍니다.\n",
        "    train_data_pt, valid_data_pt = prepare_data(None)\n",
        "\n",
        "    train_dataset = None\n",
        "    valid_dataset = None\n",
        "\n",
        "    train_dl = None\n",
        "    valid_dl = None\n",
        "\n",
        "    ## 2. train 함수로 train set에 대해 모델을 학습시키고,\n",
        "    ##    evaluate 함수로 validation set에 대해 성능을 확인합니다.\n",
        "    ##    그리고 validation set에서 가장 성능이 좋았던 training epoch과 모델을\n",
        "    ##    각각 best_model 변수와 best_model_epoch 변수에 저장합니다.\n",
        "    if config.do_train:\n",
        "        ###################################\n",
        "        ## 이 박스 위치에 코드를 작성해주세요 ##\n",
        "        ###################################\n",
        "    val_loss = None\n",
        "    elapsed = time.time() - epoch_start_time\n",
        "    logger.info(\"-\" * 89)\n",
        "    logger.info(\n",
        "        f\"| end of epoch {epoch:3d} | time: {elapsed:5.2f}s | \"\n",
        "        f\"valid loss {val_loss:5.4f} | \"\n",
        "    )\n",
        "    logger.info(\"-\" * 89)\n",
        "\n",
        "    ## 3. Validation set에 대해 제일 성능이 좋았던 모델과 epoch을 기록해둡니다.\n",
        "\n",
        "    ###################################\n",
        "    ## 이 박스 위치에 코드를 작성해주세요 ##\n",
        "    ###################################\n",
        "\n",
        "    ## 코드 종료 ##\n",
        "\n",
        "    if epoch % config.save_eval_interval == 0 or epoch == config.epochs:\n",
        "        logger.info(f\"Saving model to {save_dir}\")\n",
        "        ## 코드 시작 ##\n",
        "        ## Validation set에 대해 제일 성능이 좋았던 모델을 저장합니다.\n",
        "        torch.save(None)\n",
        "\n",
        "        # Test dataset에 대한 평가를 수행합니다.\n",
        "        results = None\n",
        "        ## 코드 종료 ##\n",
        "\n",
        "        results[\"batch_umap\"].savefig(\n",
        "            save_dir + f\"/embeddings_batch_umap[cls]_e{best_model_epoch}.png\", dpi=300\n",
        "        )\n",
        "\n",
        "        results[\"celltype_umap\"].savefig(\n",
        "            save_dir + f\"/embeddings_celltype_umap[cls]_e{best_model_epoch}.png\", dpi=300\n",
        "        )\n",
        "        metrics_to_log = {\"test/\" + k: v for k, v in results.items()}\n",
        "        metrics_to_log[\"test/batch_umap\"] = wandb.Image(\n",
        "            save_dir + f\"/embeddings_batch_umap[cls]_e{best_model_epoch}.png\",\n",
        "            caption=f\"celltype avg_bio epoch {best_model_epoch}\",\n",
        "        )\n",
        "\n",
        "        metrics_to_log[\"test/celltype_umap\"] = wandb.Image(\n",
        "            save_dir + f\"/embeddings_celltype_umap[cls]_e{best_model_epoch}.png\",\n",
        "            caption=f\"celltype avg_bio epoch {best_model_epoch}\",\n",
        "        )\n",
        "        metrics_to_log[\"test/best_model_epoch\"] = best_model_epoch\n",
        "        wandb.log(metrics_to_log)\n",
        "        wandb.log({\"avg_bio\": results.get(\"avg_bio\", 0.0)})\n",
        "\n",
        "    scheduler.step()"
      ],
      "metadata": {
        "id": "LY8xnwpFmBQA"
      },
      "execution_count": null,
      "outputs": []
    },
    {
      "cell_type": "code",
      "source": [
        "# Validation set에 대해 최적의 성능이 나온 모델의 파라미터를 저장합니다.\n",
        "torch.save(best_model.state_dict(), f\"{save_dir}/best_model.pt\")"
      ],
      "metadata": {
        "id": "j25fcBRAFfsz"
      },
      "execution_count": null,
      "outputs": []
    },
    {
      "cell_type": "code",
      "source": [
        "# 모델의 학습 로그와 최적의 모델을 artifact로 기록합니다.\n",
        "artifact = wandb.Artifact(f\"best_model\", type=\"model\")\n",
        "glob_str = os.path.join(save_dir, \"best_model.pt\")\n",
        "artifact.add_file(glob_str)\n",
        "run.log_artifact(artifact)\n",
        "\n",
        "run.finish()\n",
        "wandb.finish()\n",
        "gc.collect()"
      ],
      "metadata": {
        "id": "kXh-2fGBFgLC"
      },
      "execution_count": null,
      "outputs": []
    },
    {
      "cell_type": "markdown",
      "source": [
        "정답 코드: https://github.com/KU-MedAI/KSBI_BIML_2025_workshop"
      ],
      "metadata": {
        "id": "Y3JQk91o7n42"
      }
    }
  ]
}