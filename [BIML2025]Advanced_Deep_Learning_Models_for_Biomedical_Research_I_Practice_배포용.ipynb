{
  "nbformat": 4,
  "nbformat_minor": 0,
  "metadata": {
    "colab": {
      "provenance": [],
      "gpuType": "T4",
      "include_colab_link": true
    },
    "kernelspec": {
      "name": "python3",
      "display_name": "Python 3"
    },
    "language_info": {
      "name": "python"
    },
    "accelerator": "GPU"
  },
  "cells": [
    {
      "cell_type": "markdown",
      "metadata": {
        "id": "view-in-github",
        "colab_type": "text"
      },
      "source": [
        "<a href=\"https://colab.research.google.com/github/Seung-heon-Baek/KSBi-BIML-2025/blob/main/%5BBIML2025%5DAdvanced_Deep_Learning_Models_for_Biomedical_Research_I_Practice_%EB%B0%B0%ED%8F%AC%EC%9A%A9.ipynb\" target=\"_parent\"><img src=\"https://colab.research.google.com/assets/colab-badge.svg\" alt=\"Open In Colab\"/></a>"
      ]
    },
    {
      "cell_type": "markdown",
      "source": [
        "import torch# BIML 2025 Advanced Deep Learning Models for Biomedical Research I\n",
        "- 고려대학교 의과대학 전민지 교수, 이지호, 심우종 조교\n",
        "\n",
        "### 실습 논문\n",
        "- Zhihan Zhou, Yanrong Ji, Weijian Li, Pratik Dutta, Ramana Davuluri, and Han Liu. 2023. Dnabert-2: Efficient foundation model and benchmark for multi-species genome. arXiv preprint:2306.15006(2023)\n",
        "\n",
        "### 실습 목표: DNABERT-2 모델 실습 및 fine-tuning\n",
        "\n",
        "1. Data load 및 전처리\n",
        "2. Model 만들기\n",
        "- Embedding Module\n",
        "- Transformer Module\n",
        "- Interaction Module\n",
        "- Decoder Module\n",
        "3. SMILES, Protein amino acid sequence의 substructure 정의\n",
        "4. Loss function 및 Optimizer 정의\n",
        "5. Training\n",
        "6. Drug target interaction 예측\n",
        "7. Interaction Map 시각화"
      ],
      "metadata": {
        "id": "W1rJTzpalMTj"
      }
    },
    {
      "cell_type": "markdown",
      "source": [
        "## 실습을 위한 안내\n",
        "\"<font color='45A07A'>## 코드 시작 ##</font>\" \"<font color='45A07A'>## 코드 종료 ##</font>\" 는 여러분이 직접 작성해야 하는 부분입니다.\n",
        "\n",
        "**먼저, 실습에 사용할 dataset을 다운로드해야합니다.**\n",
        "\n",
        "https://drive.google.com/drive/folders/10Ho8GbbljAN5NyUhWzFFtWQhIDOkU41t\n",
        "\n",
        "위 링크에서 dataset을 다운받아 사용할 프로젝트 디렉토리에 옮겨 주세요.\n",
        "\n",
        "\n",
        "## 0-1. Colab 사용자를 위한 안내\n",
        "\n",
        "**로컬(개인 노트북)이 아닌 Colab 환경에서 실행하고자 하시는 분을 위한 안내입니다.**\n",
        "\n",
        "**로컬에서 실행하실 분은 \"로컬 사용자를 위한 안내\"로 넘어가세요.**\n",
        "\n",
        "**먼저 GPU를 사용하기 위한 설정입니다.**\n",
        "\n",
        "`T4 RAM 디스크` 아이콘 옆의 `추가 연결 옵션` -> `런타임 유형 변경` -> 하드웨어 가속기를 `T4 GPU` 로 설정 후 저장\n",
        "\n",
        "**이제 구글 드라이브와 Colab을 연결합니다.**"
      ],
      "metadata": {
        "id": "-__DL1iB4NF-"
      }
    },
    {
      "cell_type": "code",
      "source": [
        "## Google Drive mount\n",
        "\n",
        "from google.colab import auth\n",
        "auth.authenticate_user()\n",
        "\n",
        "from google.colab import drive\n",
        "drive.mount('/content/drive', force_remount=False)"
      ],
      "metadata": {
        "colab": {
          "base_uri": "https://localhost:8080/"
        },
        "id": "x64Q_lWa24AX",
        "outputId": "fc730c2f-1586-4346-9fd2-91a600f6b390"
      },
      "execution_count": 2,
      "outputs": [
        {
          "output_type": "stream",
          "name": "stdout",
          "text": [
            "Mounted at /content/drive\n"
          ]
        }
      ]
    },
    {
      "cell_type": "code",
      "source": [
        "from google.colab import drive\n",
        "drive.mount('/content/drive')"
      ],
      "metadata": {
        "id": "KqadF6Fwi4TE",
        "outputId": "d2e351d6-e460-4093-d15a-cd577dcf0265",
        "colab": {
          "base_uri": "https://localhost:8080/"
        }
      },
      "execution_count": 3,
      "outputs": [
        {
          "output_type": "stream",
          "name": "stdout",
          "text": [
            "Drive already mounted at /content/drive; to attempt to forcibly remount, call drive.mount(\"/content/drive\", force_remount=True).\n"
          ]
        }
      ]
    },
    {
      "cell_type": "markdown",
      "source": [
        "## 1. Package load"
      ],
      "metadata": {
        "id": "bBIn0vJdEZhM"
      }
    },
    {
      "cell_type": "code",
      "source": [
        "import torch\n",
        "import torch.nn as nn\n",
        "import torch.optim as optim\n",
        "\n",
        "import transformers\n",
        "from transformers import AutoTokenizer, AutoModel, AutoModelForMaskedLM\n",
        "from transformers.models.bert.configuration_bert import BertConfig\n",
        "\n",
        "import numpy as np\n",
        "import pandas as pd\n",
        "\n",
        "from sklearn.model_selection import train_test_split\n",
        "from sklearn.metrics import accuracy_score"
      ],
      "metadata": {
        "id": "f3sfzEdwxc4I"
      },
      "execution_count": null,
      "outputs": []
    },
    {
      "cell_type": "markdown",
      "source": [
        "!! transformers 패키지 설명 추가"
      ],
      "metadata": {
        "id": "3LrJcRD1El0t"
      }
    },
    {
      "cell_type": "code",
      "source": [
        "## Seed를 고정합니다.\n",
        "torch.manual_seed(1)\n",
        "np.random.seed(1)\n",
        "\n",
        "use_cuda = torch.cuda.is_available()\n",
        "device = torch.device(\"cuda:0\" if use_cuda else \"cpu\")\n",
        "\n",
        "print('GPU 사용 가능 여부: {}'.format(use_cuda))"
      ],
      "metadata": {
        "colab": {
          "base_uri": "https://localhost:8080/"
        },
        "id": "RlJhnyVq0Hoz",
        "outputId": "38005771-8bdc-401f-fd0a-6a75263a6f20"
      },
      "execution_count": null,
      "outputs": [
        {
          "output_type": "stream",
          "name": "stdout",
          "text": [
            "GPU 사용 가능 여부: True\n"
          ]
        }
      ]
    },
    {
      "cell_type": "markdown",
      "source": [
        "## 2. DNABERT-2 불러오기"
      ],
      "metadata": {
        "id": "Yu56jntxFHAU"
      }
    },
    {
      "cell_type": "code",
      "source": [
        "from transformers.models.bert.configuration_bert import BertConfig\n",
        "\n",
        "config = BertConfig.from_pretrained(\"zhihan1996/DNABERT-2-117M\")\n",
        "tokenizer = AutoTokenizer.from_pretrained(\"zhihan1996/DNABERT-2-117M\", trust_remote_code=True)"
      ],
      "metadata": {
        "colab": {
          "base_uri": "https://localhost:8080/"
        },
        "id": "6fHwrda8weQo",
        "outputId": "aa87957a-e06a-45d1-8f3e-aa4b635cb4d2"
      },
      "execution_count": null,
      "outputs": [
        {
          "output_type": "stream",
          "name": "stderr",
          "text": [
            "Some weights of BertModel were not initialized from the model checkpoint at zhihan1996/DNABERT-2-117M and are newly initialized: ['bert.pooler.dense.bias', 'bert.pooler.dense.weight']\n",
            "You should probably TRAIN this model on a down-stream task to be able to use it for predictions and inference.\n"
          ]
        }
      ]
    },
    {
      "cell_type": "code",
      "source": [
        "config"
      ],
      "metadata": {
        "colab": {
          "base_uri": "https://localhost:8080/"
        },
        "id": "cgOIfT1GyZkc",
        "outputId": "11ac6433-8343-4660-ce7b-978b670bfcbb"
      },
      "execution_count": null,
      "outputs": [
        {
          "output_type": "execute_result",
          "data": {
            "text/plain": [
              "BertConfig {\n",
              "  \"_name_or_path\": \"zhihan1996/DNABERT-2-117M\",\n",
              "  \"alibi_starting_size\": 512,\n",
              "  \"attention_probs_dropout_prob\": 0.0,\n",
              "  \"auto_map\": {\n",
              "    \"AutoConfig\": \"zhihan1996/DNABERT-2-117M--configuration_bert.BertConfig\",\n",
              "    \"AutoModel\": \"zhihan1996/DNABERT-2-117M--bert_layers.BertModel\",\n",
              "    \"AutoModelForMaskedLM\": \"zhihan1996/DNABERT-2-117M--bert_layers.BertForMaskedLM\",\n",
              "    \"AutoModelForSequenceClassification\": \"zhihan1996/DNABERT-2-117M--bert_layers.BertForSequenceClassification\"\n",
              "  },\n",
              "  \"classifier_dropout\": null,\n",
              "  \"gradient_checkpointing\": false,\n",
              "  \"hidden_act\": \"gelu\",\n",
              "  \"hidden_dropout_prob\": 0.1,\n",
              "  \"hidden_size\": 768,\n",
              "  \"initializer_range\": 0.02,\n",
              "  \"intermediate_size\": 3072,\n",
              "  \"layer_norm_eps\": 1e-12,\n",
              "  \"max_position_embeddings\": 512,\n",
              "  \"model_type\": \"bert\",\n",
              "  \"num_attention_heads\": 12,\n",
              "  \"num_hidden_layers\": 12,\n",
              "  \"pad_token_id\": 0,\n",
              "  \"position_embedding_type\": \"absolute\",\n",
              "  \"torch_dtype\": \"float32\",\n",
              "  \"transformers_version\": \"4.47.1\",\n",
              "  \"type_vocab_size\": 2,\n",
              "  \"use_cache\": true,\n",
              "  \"vocab_size\": 4096\n",
              "}"
            ]
          },
          "metadata": {},
          "execution_count": 24
        }
      ]
    },
    {
      "cell_type": "code",
      "source": [
        "config.attention_probs_dropout_prob=1e-6"
      ],
      "metadata": {
        "id": "ZnwFczTRC1mn"
      },
      "execution_count": null,
      "outputs": []
    },
    {
      "cell_type": "code",
      "source": [
        "tokenizer"
      ],
      "metadata": {
        "colab": {
          "base_uri": "https://localhost:8080/"
        },
        "id": "e58xKlbMzUsg",
        "outputId": "26d183d5-7cf4-4fd0-c622-cd41d794857d"
      },
      "execution_count": null,
      "outputs": [
        {
          "output_type": "execute_result",
          "data": {
            "text/plain": [
              "PreTrainedTokenizerFast(name_or_path='zhihan1996/DNABERT-2-117M', vocab_size=4096, model_max_length=1000000000000000019884624838656, is_fast=True, padding_side='right', truncation_side='right', special_tokens={'unk_token': '[UNK]', 'sep_token': '[SEP]', 'pad_token': '[PAD]', 'cls_token': '[CLS]', 'mask_token': '[MASK]'}, clean_up_tokenization_spaces=False, added_tokens_decoder={\n",
              "\t0: AddedToken(\"[UNK]\", rstrip=False, lstrip=False, single_word=False, normalized=False, special=True),\n",
              "\t1: AddedToken(\"[CLS]\", rstrip=False, lstrip=False, single_word=False, normalized=False, special=True),\n",
              "\t2: AddedToken(\"[SEP]\", rstrip=False, lstrip=False, single_word=False, normalized=False, special=True),\n",
              "\t3: AddedToken(\"[PAD]\", rstrip=False, lstrip=False, single_word=False, normalized=False, special=True),\n",
              "\t4: AddedToken(\"[MASK]\", rstrip=False, lstrip=False, single_word=False, normalized=False, special=True),\n",
              "}\n",
              ")"
            ]
          },
          "metadata": {},
          "execution_count": 37
        }
      ]
    },
    {
      "cell_type": "code",
      "source": [
        "model = AutoModel.from_pretrained(\"zhihan1996/DNABERT-2-117M\", trust_remote_code=True, config=config)"
      ],
      "metadata": {
        "colab": {
          "base_uri": "https://localhost:8080/"
        },
        "id": "JPdty-PZDFtZ",
        "outputId": "ed534847-a08c-49cc-b12b-0c736ad5a17d"
      },
      "execution_count": null,
      "outputs": [
        {
          "output_type": "stream",
          "name": "stderr",
          "text": [
            "Some weights of BertModel were not initialized from the model checkpoint at zhihan1996/DNABERT-2-117M and are newly initialized: ['bert.pooler.dense.bias', 'bert.pooler.dense.weight']\n",
            "You should probably TRAIN this model on a down-stream task to be able to use it for predictions and inference.\n"
          ]
        }
      ]
    },
    {
      "cell_type": "code",
      "source": [
        "model"
      ],
      "metadata": {
        "colab": {
          "base_uri": "https://localhost:8080/"
        },
        "id": "ZSkibzpfyuAB",
        "outputId": "74183106-4aa6-4fd0-caa7-bb2c07c0b442"
      },
      "execution_count": null,
      "outputs": [
        {
          "output_type": "execute_result",
          "data": {
            "text/plain": [
              "BertModel(\n",
              "  (embeddings): BertEmbeddings(\n",
              "    (word_embeddings): Embedding(4096, 768, padding_idx=0)\n",
              "    (token_type_embeddings): Embedding(2, 768)\n",
              "    (LayerNorm): LayerNorm((768,), eps=1e-12, elementwise_affine=True)\n",
              "    (dropout): Dropout(p=0.1, inplace=False)\n",
              "  )\n",
              "  (encoder): BertEncoder(\n",
              "    (layer): ModuleList(\n",
              "      (0-11): 12 x BertLayer(\n",
              "        (attention): BertUnpadAttention(\n",
              "          (self): BertUnpadSelfAttention(\n",
              "            (dropout): Dropout(p=1e-06, inplace=False)\n",
              "            (Wqkv): Linear(in_features=768, out_features=2304, bias=True)\n",
              "          )\n",
              "          (output): BertSelfOutput(\n",
              "            (dense): Linear(in_features=768, out_features=768, bias=True)\n",
              "            (LayerNorm): LayerNorm((768,), eps=1e-12, elementwise_affine=True)\n",
              "            (dropout): Dropout(p=0.1, inplace=False)\n",
              "          )\n",
              "        )\n",
              "        (mlp): BertGatedLinearUnitMLP(\n",
              "          (gated_layers): Linear(in_features=768, out_features=6144, bias=False)\n",
              "          (act): GELU(approximate='none')\n",
              "          (wo): Linear(in_features=3072, out_features=768, bias=True)\n",
              "          (dropout): Dropout(p=0.1, inplace=False)\n",
              "          (layernorm): LayerNorm((768,), eps=1e-12, elementwise_affine=True)\n",
              "        )\n",
              "      )\n",
              "    )\n",
              "  )\n",
              "  (pooler): BertPooler(\n",
              "    (dense): Linear(in_features=768, out_features=768, bias=True)\n",
              "    (activation): Tanh()\n",
              "  )\n",
              ")"
            ]
          },
          "metadata": {},
          "execution_count": 39
        }
      ]
    },
    {
      "cell_type": "code",
      "source": [
        "model=model.to(device)"
      ],
      "metadata": {
        "id": "sovZuoggyvbU"
      },
      "execution_count": null,
      "outputs": []
    },
    {
      "cell_type": "markdown",
      "source": [
        "## 3. DNABERT-2로 embedding 얻기"
      ],
      "metadata": {
        "id": "Iz5DB5ogFTne"
      }
    },
    {
      "cell_type": "code",
      "source": [
        "DNA = pd.read_csv('/content/drive/MyDrive/[2025]BIML/data/DNA.csv')"
      ],
      "metadata": {
        "id": "twplRe-o0VWs"
      },
      "execution_count": null,
      "outputs": []
    },
    {
      "cell_type": "code",
      "source": [
        "DNA"
      ],
      "metadata": {
        "id": "ZG5XhaJw7o5N",
        "colab": {
          "base_uri": "https://localhost:8080/",
          "height": 990
        },
        "outputId": "996ba968-6e32-433b-febf-b1cb6c9d75e0"
      },
      "execution_count": null,
      "outputs": [
        {
          "output_type": "execute_result",
          "data": {
            "text/plain": [
              "                                             sequence  label\n",
              "0   AAAAAGCCTGTGAAGCACAGAGAGCAGCCAGCCAGAGCTGATGCTC...      1\n",
              "1   ACCTGCTAACAATTAAGGCCTCCAGGTCTACCCTGCAGCTGGGCCT...      0\n",
              "2   ACTGACCATGTGCATCCTCACTGATACCAGTCTTGCCACAGTGTGC...      0\n",
              "3   ATATTACTCAACCGCCTAACAGAACAAAAGCATTCTTGGCTTGATC...      0\n",
              "4   CAACCATCCTACTTGCTCGTGGGCTAGCTGCGGGCGCGTCGCGAGC...      0\n",
              "5   TCCATGTGTCATCATGGACAGGCTTGTAATGCTTCTCGGGCTTTCA...      0\n",
              "6   CTGAGAGGAAAAGGCCCTGAAGAACTGGGAATGCTGAGTCAGCTTT...      1\n",
              "7   ACATCAGGGTGAATGTTGAGGAGTTTAATTATTTTGCTTGGTGACA...      0\n",
              "8   TCAGACTAAGTGCCAGTTCTGTGAGTGAATGTTCAATGACTGAGGT...      0\n",
              "9   GTTGGGAACCCCAGCTGACTACTTAAGTCTCCCCATTAATTTCTGC...      1\n",
              "10  TCCATGTGTCATCATGGACAGGCTTGTAATGCTTCTCGGGCTTTCA...      0\n",
              "11  CTGAGAGGAAAAGGCCCTGAAGAACTGGGAATGCTGAGTCAGCTTT...      1\n",
              "12  ACATCAGGGTGAATGTTGAGGAGTTTAATTATTTTGCTTGGTGACA...      0\n",
              "13  TCAGACTAAGTGCCAGTTCTGTGAGTGAATGTTCAATGACTGAGGT...      0\n",
              "14  GTTGGGAACCCCAGCTGACTACTTAAGTCTCCCCATTAATTTCTGC...      1\n",
              "15  AAAAAGCCTGTGAAGCACAGAGAGCAGCCAGCCAGAGCTGATGCTC...      1\n",
              "16  ACCTGCTAACAATTAAGGCCTCCAGGTCTACCCTGCAGCTGGGCCT...      0\n",
              "17  ACTGACCATGTGCATCCTCACTGATACCAGTCTTGCCACAGTGTGC...      0\n",
              "18  ATATTACTCAACCGCCTAACAGAACAAAAGCATTCTTGGCTTGATC...      0\n",
              "19  CAACCATCCTACTTGCTCGTGGGCTAGCTGCGGGCGCGTCGCGAGC...      0\n",
              "20  TCCATGTGTCATCATGGACAGGCTTGTAATGCTTCTCGGGCTTTCA...      0\n",
              "21  CTGAGAGGAAAAGGCCCTGAAGAACTGGGAATGCTGAGTCAGCTTT...      1\n",
              "22  ACATCAGGGTGAATGTTGAGGAGTTTAATTATTTTGCTTGGTGACA...      0\n",
              "23  TCAGACTAAGTGCCAGTTCTGTGAGTGAATGTTCAATGACTGAGGT...      0\n",
              "24  GTTGGGAACCCCAGCTGACTACTTAAGTCTCCCCATTAATTTCTGC...      1\n",
              "25  TCCATGTGTCATCATGGACAGGCTTGTAATGCTTCTCGGGCTTTCA...      0\n",
              "26  CTGAGAGGAAAAGGCCCTGAAGAACTGGGAATGCTGAGTCAGCTTT...      1\n",
              "27  ACATCAGGGTGAATGTTGAGGAGTTTAATTATTTTGCTTGGTGACA...      0\n",
              "28  TCAGACTAAGTGCCAGTTCTGTGAGTGAATGTTCAATGACTGAGGT...      0\n",
              "29  GTTGGGAACCCCAGCTGACTACTTAAGTCTCCCCATTAATTTCTGC...      1"
            ],
            "text/html": [
              "\n",
              "  <div id=\"df-8bf0722a-adb5-47ec-9033-dc3f94158216\" class=\"colab-df-container\">\n",
              "    <div>\n",
              "<style scoped>\n",
              "    .dataframe tbody tr th:only-of-type {\n",
              "        vertical-align: middle;\n",
              "    }\n",
              "\n",
              "    .dataframe tbody tr th {\n",
              "        vertical-align: top;\n",
              "    }\n",
              "\n",
              "    .dataframe thead th {\n",
              "        text-align: right;\n",
              "    }\n",
              "</style>\n",
              "<table border=\"1\" class=\"dataframe\">\n",
              "  <thead>\n",
              "    <tr style=\"text-align: right;\">\n",
              "      <th></th>\n",
              "      <th>sequence</th>\n",
              "      <th>label</th>\n",
              "    </tr>\n",
              "  </thead>\n",
              "  <tbody>\n",
              "    <tr>\n",
              "      <th>0</th>\n",
              "      <td>AAAAAGCCTGTGAAGCACAGAGAGCAGCCAGCCAGAGCTGATGCTC...</td>\n",
              "      <td>1</td>\n",
              "    </tr>\n",
              "    <tr>\n",
              "      <th>1</th>\n",
              "      <td>ACCTGCTAACAATTAAGGCCTCCAGGTCTACCCTGCAGCTGGGCCT...</td>\n",
              "      <td>0</td>\n",
              "    </tr>\n",
              "    <tr>\n",
              "      <th>2</th>\n",
              "      <td>ACTGACCATGTGCATCCTCACTGATACCAGTCTTGCCACAGTGTGC...</td>\n",
              "      <td>0</td>\n",
              "    </tr>\n",
              "    <tr>\n",
              "      <th>3</th>\n",
              "      <td>ATATTACTCAACCGCCTAACAGAACAAAAGCATTCTTGGCTTGATC...</td>\n",
              "      <td>0</td>\n",
              "    </tr>\n",
              "    <tr>\n",
              "      <th>4</th>\n",
              "      <td>CAACCATCCTACTTGCTCGTGGGCTAGCTGCGGGCGCGTCGCGAGC...</td>\n",
              "      <td>0</td>\n",
              "    </tr>\n",
              "    <tr>\n",
              "      <th>5</th>\n",
              "      <td>TCCATGTGTCATCATGGACAGGCTTGTAATGCTTCTCGGGCTTTCA...</td>\n",
              "      <td>0</td>\n",
              "    </tr>\n",
              "    <tr>\n",
              "      <th>6</th>\n",
              "      <td>CTGAGAGGAAAAGGCCCTGAAGAACTGGGAATGCTGAGTCAGCTTT...</td>\n",
              "      <td>1</td>\n",
              "    </tr>\n",
              "    <tr>\n",
              "      <th>7</th>\n",
              "      <td>ACATCAGGGTGAATGTTGAGGAGTTTAATTATTTTGCTTGGTGACA...</td>\n",
              "      <td>0</td>\n",
              "    </tr>\n",
              "    <tr>\n",
              "      <th>8</th>\n",
              "      <td>TCAGACTAAGTGCCAGTTCTGTGAGTGAATGTTCAATGACTGAGGT...</td>\n",
              "      <td>0</td>\n",
              "    </tr>\n",
              "    <tr>\n",
              "      <th>9</th>\n",
              "      <td>GTTGGGAACCCCAGCTGACTACTTAAGTCTCCCCATTAATTTCTGC...</td>\n",
              "      <td>1</td>\n",
              "    </tr>\n",
              "    <tr>\n",
              "      <th>10</th>\n",
              "      <td>TCCATGTGTCATCATGGACAGGCTTGTAATGCTTCTCGGGCTTTCA...</td>\n",
              "      <td>0</td>\n",
              "    </tr>\n",
              "    <tr>\n",
              "      <th>11</th>\n",
              "      <td>CTGAGAGGAAAAGGCCCTGAAGAACTGGGAATGCTGAGTCAGCTTT...</td>\n",
              "      <td>1</td>\n",
              "    </tr>\n",
              "    <tr>\n",
              "      <th>12</th>\n",
              "      <td>ACATCAGGGTGAATGTTGAGGAGTTTAATTATTTTGCTTGGTGACA...</td>\n",
              "      <td>0</td>\n",
              "    </tr>\n",
              "    <tr>\n",
              "      <th>13</th>\n",
              "      <td>TCAGACTAAGTGCCAGTTCTGTGAGTGAATGTTCAATGACTGAGGT...</td>\n",
              "      <td>0</td>\n",
              "    </tr>\n",
              "    <tr>\n",
              "      <th>14</th>\n",
              "      <td>GTTGGGAACCCCAGCTGACTACTTAAGTCTCCCCATTAATTTCTGC...</td>\n",
              "      <td>1</td>\n",
              "    </tr>\n",
              "    <tr>\n",
              "      <th>15</th>\n",
              "      <td>AAAAAGCCTGTGAAGCACAGAGAGCAGCCAGCCAGAGCTGATGCTC...</td>\n",
              "      <td>1</td>\n",
              "    </tr>\n",
              "    <tr>\n",
              "      <th>16</th>\n",
              "      <td>ACCTGCTAACAATTAAGGCCTCCAGGTCTACCCTGCAGCTGGGCCT...</td>\n",
              "      <td>0</td>\n",
              "    </tr>\n",
              "    <tr>\n",
              "      <th>17</th>\n",
              "      <td>ACTGACCATGTGCATCCTCACTGATACCAGTCTTGCCACAGTGTGC...</td>\n",
              "      <td>0</td>\n",
              "    </tr>\n",
              "    <tr>\n",
              "      <th>18</th>\n",
              "      <td>ATATTACTCAACCGCCTAACAGAACAAAAGCATTCTTGGCTTGATC...</td>\n",
              "      <td>0</td>\n",
              "    </tr>\n",
              "    <tr>\n",
              "      <th>19</th>\n",
              "      <td>CAACCATCCTACTTGCTCGTGGGCTAGCTGCGGGCGCGTCGCGAGC...</td>\n",
              "      <td>0</td>\n",
              "    </tr>\n",
              "    <tr>\n",
              "      <th>20</th>\n",
              "      <td>TCCATGTGTCATCATGGACAGGCTTGTAATGCTTCTCGGGCTTTCA...</td>\n",
              "      <td>0</td>\n",
              "    </tr>\n",
              "    <tr>\n",
              "      <th>21</th>\n",
              "      <td>CTGAGAGGAAAAGGCCCTGAAGAACTGGGAATGCTGAGTCAGCTTT...</td>\n",
              "      <td>1</td>\n",
              "    </tr>\n",
              "    <tr>\n",
              "      <th>22</th>\n",
              "      <td>ACATCAGGGTGAATGTTGAGGAGTTTAATTATTTTGCTTGGTGACA...</td>\n",
              "      <td>0</td>\n",
              "    </tr>\n",
              "    <tr>\n",
              "      <th>23</th>\n",
              "      <td>TCAGACTAAGTGCCAGTTCTGTGAGTGAATGTTCAATGACTGAGGT...</td>\n",
              "      <td>0</td>\n",
              "    </tr>\n",
              "    <tr>\n",
              "      <th>24</th>\n",
              "      <td>GTTGGGAACCCCAGCTGACTACTTAAGTCTCCCCATTAATTTCTGC...</td>\n",
              "      <td>1</td>\n",
              "    </tr>\n",
              "    <tr>\n",
              "      <th>25</th>\n",
              "      <td>TCCATGTGTCATCATGGACAGGCTTGTAATGCTTCTCGGGCTTTCA...</td>\n",
              "      <td>0</td>\n",
              "    </tr>\n",
              "    <tr>\n",
              "      <th>26</th>\n",
              "      <td>CTGAGAGGAAAAGGCCCTGAAGAACTGGGAATGCTGAGTCAGCTTT...</td>\n",
              "      <td>1</td>\n",
              "    </tr>\n",
              "    <tr>\n",
              "      <th>27</th>\n",
              "      <td>ACATCAGGGTGAATGTTGAGGAGTTTAATTATTTTGCTTGGTGACA...</td>\n",
              "      <td>0</td>\n",
              "    </tr>\n",
              "    <tr>\n",
              "      <th>28</th>\n",
              "      <td>TCAGACTAAGTGCCAGTTCTGTGAGTGAATGTTCAATGACTGAGGT...</td>\n",
              "      <td>0</td>\n",
              "    </tr>\n",
              "    <tr>\n",
              "      <th>29</th>\n",
              "      <td>GTTGGGAACCCCAGCTGACTACTTAAGTCTCCCCATTAATTTCTGC...</td>\n",
              "      <td>1</td>\n",
              "    </tr>\n",
              "  </tbody>\n",
              "</table>\n",
              "</div>\n",
              "    <div class=\"colab-df-buttons\">\n",
              "\n",
              "  <div class=\"colab-df-container\">\n",
              "    <button class=\"colab-df-convert\" onclick=\"convertToInteractive('df-8bf0722a-adb5-47ec-9033-dc3f94158216')\"\n",
              "            title=\"Convert this dataframe to an interactive table.\"\n",
              "            style=\"display:none;\">\n",
              "\n",
              "  <svg xmlns=\"http://www.w3.org/2000/svg\" height=\"24px\" viewBox=\"0 -960 960 960\">\n",
              "    <path d=\"M120-120v-720h720v720H120Zm60-500h600v-160H180v160Zm220 220h160v-160H400v160Zm0 220h160v-160H400v160ZM180-400h160v-160H180v160Zm440 0h160v-160H620v160ZM180-180h160v-160H180v160Zm440 0h160v-160H620v160Z\"/>\n",
              "  </svg>\n",
              "    </button>\n",
              "\n",
              "  <style>\n",
              "    .colab-df-container {\n",
              "      display:flex;\n",
              "      gap: 12px;\n",
              "    }\n",
              "\n",
              "    .colab-df-convert {\n",
              "      background-color: #E8F0FE;\n",
              "      border: none;\n",
              "      border-radius: 50%;\n",
              "      cursor: pointer;\n",
              "      display: none;\n",
              "      fill: #1967D2;\n",
              "      height: 32px;\n",
              "      padding: 0 0 0 0;\n",
              "      width: 32px;\n",
              "    }\n",
              "\n",
              "    .colab-df-convert:hover {\n",
              "      background-color: #E2EBFA;\n",
              "      box-shadow: 0px 1px 2px rgba(60, 64, 67, 0.3), 0px 1px 3px 1px rgba(60, 64, 67, 0.15);\n",
              "      fill: #174EA6;\n",
              "    }\n",
              "\n",
              "    .colab-df-buttons div {\n",
              "      margin-bottom: 4px;\n",
              "    }\n",
              "\n",
              "    [theme=dark] .colab-df-convert {\n",
              "      background-color: #3B4455;\n",
              "      fill: #D2E3FC;\n",
              "    }\n",
              "\n",
              "    [theme=dark] .colab-df-convert:hover {\n",
              "      background-color: #434B5C;\n",
              "      box-shadow: 0px 1px 3px 1px rgba(0, 0, 0, 0.15);\n",
              "      filter: drop-shadow(0px 1px 2px rgba(0, 0, 0, 0.3));\n",
              "      fill: #FFFFFF;\n",
              "    }\n",
              "  </style>\n",
              "\n",
              "    <script>\n",
              "      const buttonEl =\n",
              "        document.querySelector('#df-8bf0722a-adb5-47ec-9033-dc3f94158216 button.colab-df-convert');\n",
              "      buttonEl.style.display =\n",
              "        google.colab.kernel.accessAllowed ? 'block' : 'none';\n",
              "\n",
              "      async function convertToInteractive(key) {\n",
              "        const element = document.querySelector('#df-8bf0722a-adb5-47ec-9033-dc3f94158216');\n",
              "        const dataTable =\n",
              "          await google.colab.kernel.invokeFunction('convertToInteractive',\n",
              "                                                    [key], {});\n",
              "        if (!dataTable) return;\n",
              "\n",
              "        const docLinkHtml = 'Like what you see? Visit the ' +\n",
              "          '<a target=\"_blank\" href=https://colab.research.google.com/notebooks/data_table.ipynb>data table notebook</a>'\n",
              "          + ' to learn more about interactive tables.';\n",
              "        element.innerHTML = '';\n",
              "        dataTable['output_type'] = 'display_data';\n",
              "        await google.colab.output.renderOutput(dataTable, element);\n",
              "        const docLink = document.createElement('div');\n",
              "        docLink.innerHTML = docLinkHtml;\n",
              "        element.appendChild(docLink);\n",
              "      }\n",
              "    </script>\n",
              "  </div>\n",
              "\n",
              "\n",
              "<div id=\"df-40e98ffb-ec4b-4b26-94f0-39184141ff2e\">\n",
              "  <button class=\"colab-df-quickchart\" onclick=\"quickchart('df-40e98ffb-ec4b-4b26-94f0-39184141ff2e')\"\n",
              "            title=\"Suggest charts\"\n",
              "            style=\"display:none;\">\n",
              "\n",
              "<svg xmlns=\"http://www.w3.org/2000/svg\" height=\"24px\"viewBox=\"0 0 24 24\"\n",
              "     width=\"24px\">\n",
              "    <g>\n",
              "        <path d=\"M19 3H5c-1.1 0-2 .9-2 2v14c0 1.1.9 2 2 2h14c1.1 0 2-.9 2-2V5c0-1.1-.9-2-2-2zM9 17H7v-7h2v7zm4 0h-2V7h2v10zm4 0h-2v-4h2v4z\"/>\n",
              "    </g>\n",
              "</svg>\n",
              "  </button>\n",
              "\n",
              "<style>\n",
              "  .colab-df-quickchart {\n",
              "      --bg-color: #E8F0FE;\n",
              "      --fill-color: #1967D2;\n",
              "      --hover-bg-color: #E2EBFA;\n",
              "      --hover-fill-color: #174EA6;\n",
              "      --disabled-fill-color: #AAA;\n",
              "      --disabled-bg-color: #DDD;\n",
              "  }\n",
              "\n",
              "  [theme=dark] .colab-df-quickchart {\n",
              "      --bg-color: #3B4455;\n",
              "      --fill-color: #D2E3FC;\n",
              "      --hover-bg-color: #434B5C;\n",
              "      --hover-fill-color: #FFFFFF;\n",
              "      --disabled-bg-color: #3B4455;\n",
              "      --disabled-fill-color: #666;\n",
              "  }\n",
              "\n",
              "  .colab-df-quickchart {\n",
              "    background-color: var(--bg-color);\n",
              "    border: none;\n",
              "    border-radius: 50%;\n",
              "    cursor: pointer;\n",
              "    display: none;\n",
              "    fill: var(--fill-color);\n",
              "    height: 32px;\n",
              "    padding: 0;\n",
              "    width: 32px;\n",
              "  }\n",
              "\n",
              "  .colab-df-quickchart:hover {\n",
              "    background-color: var(--hover-bg-color);\n",
              "    box-shadow: 0 1px 2px rgba(60, 64, 67, 0.3), 0 1px 3px 1px rgba(60, 64, 67, 0.15);\n",
              "    fill: var(--button-hover-fill-color);\n",
              "  }\n",
              "\n",
              "  .colab-df-quickchart-complete:disabled,\n",
              "  .colab-df-quickchart-complete:disabled:hover {\n",
              "    background-color: var(--disabled-bg-color);\n",
              "    fill: var(--disabled-fill-color);\n",
              "    box-shadow: none;\n",
              "  }\n",
              "\n",
              "  .colab-df-spinner {\n",
              "    border: 2px solid var(--fill-color);\n",
              "    border-color: transparent;\n",
              "    border-bottom-color: var(--fill-color);\n",
              "    animation:\n",
              "      spin 1s steps(1) infinite;\n",
              "  }\n",
              "\n",
              "  @keyframes spin {\n",
              "    0% {\n",
              "      border-color: transparent;\n",
              "      border-bottom-color: var(--fill-color);\n",
              "      border-left-color: var(--fill-color);\n",
              "    }\n",
              "    20% {\n",
              "      border-color: transparent;\n",
              "      border-left-color: var(--fill-color);\n",
              "      border-top-color: var(--fill-color);\n",
              "    }\n",
              "    30% {\n",
              "      border-color: transparent;\n",
              "      border-left-color: var(--fill-color);\n",
              "      border-top-color: var(--fill-color);\n",
              "      border-right-color: var(--fill-color);\n",
              "    }\n",
              "    40% {\n",
              "      border-color: transparent;\n",
              "      border-right-color: var(--fill-color);\n",
              "      border-top-color: var(--fill-color);\n",
              "    }\n",
              "    60% {\n",
              "      border-color: transparent;\n",
              "      border-right-color: var(--fill-color);\n",
              "    }\n",
              "    80% {\n",
              "      border-color: transparent;\n",
              "      border-right-color: var(--fill-color);\n",
              "      border-bottom-color: var(--fill-color);\n",
              "    }\n",
              "    90% {\n",
              "      border-color: transparent;\n",
              "      border-bottom-color: var(--fill-color);\n",
              "    }\n",
              "  }\n",
              "</style>\n",
              "\n",
              "  <script>\n",
              "    async function quickchart(key) {\n",
              "      const quickchartButtonEl =\n",
              "        document.querySelector('#' + key + ' button');\n",
              "      quickchartButtonEl.disabled = true;  // To prevent multiple clicks.\n",
              "      quickchartButtonEl.classList.add('colab-df-spinner');\n",
              "      try {\n",
              "        const charts = await google.colab.kernel.invokeFunction(\n",
              "            'suggestCharts', [key], {});\n",
              "      } catch (error) {\n",
              "        console.error('Error during call to suggestCharts:', error);\n",
              "      }\n",
              "      quickchartButtonEl.classList.remove('colab-df-spinner');\n",
              "      quickchartButtonEl.classList.add('colab-df-quickchart-complete');\n",
              "    }\n",
              "    (() => {\n",
              "      let quickchartButtonEl =\n",
              "        document.querySelector('#df-40e98ffb-ec4b-4b26-94f0-39184141ff2e button');\n",
              "      quickchartButtonEl.style.display =\n",
              "        google.colab.kernel.accessAllowed ? 'block' : 'none';\n",
              "    })();\n",
              "  </script>\n",
              "</div>\n",
              "\n",
              "  <div id=\"id_ffdfa6b6-0c51-4a1b-aa76-bb2600103662\">\n",
              "    <style>\n",
              "      .colab-df-generate {\n",
              "        background-color: #E8F0FE;\n",
              "        border: none;\n",
              "        border-radius: 50%;\n",
              "        cursor: pointer;\n",
              "        display: none;\n",
              "        fill: #1967D2;\n",
              "        height: 32px;\n",
              "        padding: 0 0 0 0;\n",
              "        width: 32px;\n",
              "      }\n",
              "\n",
              "      .colab-df-generate:hover {\n",
              "        background-color: #E2EBFA;\n",
              "        box-shadow: 0px 1px 2px rgba(60, 64, 67, 0.3), 0px 1px 3px 1px rgba(60, 64, 67, 0.15);\n",
              "        fill: #174EA6;\n",
              "      }\n",
              "\n",
              "      [theme=dark] .colab-df-generate {\n",
              "        background-color: #3B4455;\n",
              "        fill: #D2E3FC;\n",
              "      }\n",
              "\n",
              "      [theme=dark] .colab-df-generate:hover {\n",
              "        background-color: #434B5C;\n",
              "        box-shadow: 0px 1px 3px 1px rgba(0, 0, 0, 0.15);\n",
              "        filter: drop-shadow(0px 1px 2px rgba(0, 0, 0, 0.3));\n",
              "        fill: #FFFFFF;\n",
              "      }\n",
              "    </style>\n",
              "    <button class=\"colab-df-generate\" onclick=\"generateWithVariable('DNA')\"\n",
              "            title=\"Generate code using this dataframe.\"\n",
              "            style=\"display:none;\">\n",
              "\n",
              "  <svg xmlns=\"http://www.w3.org/2000/svg\" height=\"24px\"viewBox=\"0 0 24 24\"\n",
              "       width=\"24px\">\n",
              "    <path d=\"M7,19H8.4L18.45,9,17,7.55,7,17.6ZM5,21V16.75L18.45,3.32a2,2,0,0,1,2.83,0l1.4,1.43a1.91,1.91,0,0,1,.58,1.4,1.91,1.91,0,0,1-.58,1.4L9.25,21ZM18.45,9,17,7.55Zm-12,3A5.31,5.31,0,0,0,4.9,8.1,5.31,5.31,0,0,0,1,6.5,5.31,5.31,0,0,0,4.9,4.9,5.31,5.31,0,0,0,6.5,1,5.31,5.31,0,0,0,8.1,4.9,5.31,5.31,0,0,0,12,6.5,5.46,5.46,0,0,0,6.5,12Z\"/>\n",
              "  </svg>\n",
              "    </button>\n",
              "    <script>\n",
              "      (() => {\n",
              "      const buttonEl =\n",
              "        document.querySelector('#id_ffdfa6b6-0c51-4a1b-aa76-bb2600103662 button.colab-df-generate');\n",
              "      buttonEl.style.display =\n",
              "        google.colab.kernel.accessAllowed ? 'block' : 'none';\n",
              "\n",
              "      buttonEl.onclick = () => {\n",
              "        google.colab.notebook.generateWithVariable('DNA');\n",
              "      }\n",
              "      })();\n",
              "    </script>\n",
              "  </div>\n",
              "\n",
              "    </div>\n",
              "  </div>\n"
            ],
            "application/vnd.google.colaboratory.intrinsic+json": {
              "type": "dataframe",
              "variable_name": "DNA",
              "summary": "{\n  \"name\": \"DNA\",\n  \"rows\": 30,\n  \"fields\": [\n    {\n      \"column\": \"sequence\",\n      \"properties\": {\n        \"dtype\": \"category\",\n        \"num_unique_values\": 10,\n        \"samples\": [\n          \"TCAGACTAAGTGCCAGTTCTGTGAGTGAATGTTCAATGACTGAGGTGCACATTATTTGCCATATCTACTGAAAAGCAATGCTATCTTTCCGCTTCTGAGGA\",\n          \"ACCTGCTAACAATTAAGGCCTCCAGGTCTACCCTGCAGCTGGGCCTGAGGAGGTCCTCTTGAAAGGAGTGGGTAACAGCGCACTATTGAGGGCCTGTGAAG\",\n          \"TCCATGTGTCATCATGGACAGGCTTGTAATGCTTCTCGGGCTTTCACATCCCCACATACTGCAGAGAGTAGTCCAAATTCTTGGGAGATTCCGTATAATAA\"\n        ],\n        \"semantic_type\": \"\",\n        \"description\": \"\"\n      }\n    },\n    {\n      \"column\": \"label\",\n      \"properties\": {\n        \"dtype\": \"number\",\n        \"std\": 0,\n        \"min\": 0,\n        \"max\": 1,\n        \"num_unique_values\": 2,\n        \"samples\": [\n          0,\n          1\n        ],\n        \"semantic_type\": \"\",\n        \"description\": \"\"\n      }\n    }\n  ]\n}"
            }
          },
          "metadata": {},
          "execution_count": 42
        }
      ]
    },
    {
      "cell_type": "code",
      "source": [
        "def get_embeddings(sequence, model, tokenizer, device):\n",
        "    # 서열 토큰화\n",
        "    tokens = tokenizer(sequence, return_tensors=\"pt\", padding=True, truncation=True, max_length=512)\n",
        "    tokens = {key: val.to(device) for key, val in tokens.items()}\n",
        "\n",
        "    # 모델 추론\n",
        "    with torch.no_grad():\n",
        "        outputs = model(**tokens)\n",
        "    hidden_states = outputs[0]  # 마지막 레이어의 Hidden States\n",
        "\n",
        "    # Mean Pooling (평균 임베딩)\n",
        "    embedding_mean = torch.mean(hidden_states[0], dim=0)\n",
        "\n",
        "    # Max Pooling (최대값 임베딩)\n",
        "    embedding_max = torch.max(hidden_states[0], dim=0)[0]\n",
        "\n",
        "    return embedding_mean, embedding_max  # 두 개의 값을 반환"
      ],
      "metadata": {
        "id": "OW5HwUmV9r6F"
      },
      "execution_count": null,
      "outputs": []
    },
    {
      "cell_type": "code",
      "source": [
        "# 모든 서열에 대해 임베딩 계산\n",
        "mean_embeddings = []\n",
        "max_embeddings = []\n",
        "\n",
        "for seq in DNA['sequence']:\n",
        "    mean_emb, max_emb = get_embeddings(seq, model, tokenizer, device)\n",
        "    mean_embeddings.append(mean_emb.cpu().numpy())\n",
        "    max_embeddings.append(max_emb.cpu().numpy())"
      ],
      "metadata": {
        "id": "ziKsvjMI9wc0"
      },
      "execution_count": null,
      "outputs": []
    },
    {
      "cell_type": "code",
      "source": [
        "mean_embeddings_array = np.array(mean_embeddings)\n",
        "print(mean_embeddings_array.shape)"
      ],
      "metadata": {
        "colab": {
          "base_uri": "https://localhost:8080/"
        },
        "id": "qa8MUyCC91DW",
        "outputId": "f03b2686-946e-48a5-f7ef-932e47a665ae"
      },
      "execution_count": null,
      "outputs": [
        {
          "output_type": "stream",
          "name": "stdout",
          "text": [
            "(30, 768)\n"
          ]
        }
      ]
    },
    {
      "cell_type": "markdown",
      "source": [
        "## 4. 생성된 embedding으로 classification"
      ],
      "metadata": {
        "id": "f4g_o5xoHNM0"
      }
    },
    {
      "cell_type": "code",
      "source": [
        "class MLPClassifier(nn.Module):\n",
        "    def __init__(self, input_size, hidden_size, num_classes):\n",
        "        super(MLPClassifier, self).__init__()\n",
        "        self.fc1 = nn.Linear(input_size, hidden_size)\n",
        "        self.relu = nn.ReLU()\n",
        "        self.fc2 = nn.Linear(hidden_size, num_classes)\n",
        "        self.softmax = nn.Softmax(dim=1)\n",
        "\n",
        "    def forward(self, x):\n",
        "        x = self.fc1(x)\n",
        "        x = self.relu(x)\n",
        "        x = self.fc2(x)\n",
        "        return x"
      ],
      "metadata": {
        "id": "Ajt7Ew1QDNQX"
      },
      "execution_count": null,
      "outputs": []
    },
    {
      "cell_type": "code",
      "source": [
        "# 임베딩 결과를 데이터프레임으로 저장\n",
        "DNA['embedding_mean'] = mean_embeddings\n",
        "DNA['embedding_max'] = max_embeddings"
      ],
      "metadata": {
        "id": "y7s4MYIYHiyw"
      },
      "execution_count": null,
      "outputs": []
    },
    {
      "cell_type": "code",
      "source": [
        "# 데이터 분리\n",
        "X = torch.tensor(DNA['embedding_mean'].tolist(), dtype=torch.float32)\n",
        "y = torch.tensor(DNA['label'].values, dtype=torch.long)\n",
        "\n",
        "# 학습 데이터와 테스트 데이터 분리\n",
        "X_train, X_test, y_train, y_test = train_test_split(X, y, test_size=0.2, random_state=42)"
      ],
      "metadata": {
        "colab": {
          "base_uri": "https://localhost:8080/"
        },
        "id": "fAjF4JKCHlOo",
        "outputId": "d11910b4-71c4-4e77-81a7-f5e07ba3cfad"
      },
      "execution_count": null,
      "outputs": [
        {
          "output_type": "stream",
          "name": "stderr",
          "text": [
            "<ipython-input-50-3c007d919de8>:2: UserWarning: Creating a tensor from a list of numpy.ndarrays is extremely slow. Please consider converting the list to a single numpy.ndarray with numpy.array() before converting to a tensor. (Triggered internally at ../torch/csrc/utils/tensor_new.cpp:278.)\n",
            "  X = torch.tensor(DNA['embedding_mean'].tolist(), dtype=torch.float32)\n"
          ]
        }
      ]
    },
    {
      "cell_type": "code",
      "source": [
        "# 하이퍼파라미터 설정\n",
        "input_size = 768\n",
        "hidden_size = 128\n",
        "num_classes = 2\n",
        "num_epochs = 20\n",
        "learning_rate = 0.001\n",
        "\n",
        "# 모델 초기화\n",
        "model = MLPClassifier(input_size, hidden_size, num_classes).to(device)\n",
        "criterion = nn.CrossEntropyLoss()\n",
        "optimizer = optim.Adam(model.parameters(), lr=learning_rate)\n",
        "\n",
        "# 학습 루프\n",
        "for epoch in range(num_epochs):\n",
        "    model.train()\n",
        "    inputs = X_train.to(device)\n",
        "    labels = y_train.to(device)\n",
        "\n",
        "    # Forward\n",
        "    outputs = model(inputs)\n",
        "    loss = criterion(outputs, labels)\n",
        "\n",
        "    # Backward\n",
        "    optimizer.zero_grad()\n",
        "    loss.backward()\n",
        "    optimizer.step()\n",
        "\n",
        "    print(f\"Epoch [{epoch+1}/{num_epochs}], Loss: {loss.item():.4f}\")"
      ],
      "metadata": {
        "colab": {
          "base_uri": "https://localhost:8080/"
        },
        "id": "VYhfNzr1HuIh",
        "outputId": "573dd2f6-a874-4426-fec3-428e1089966b"
      },
      "execution_count": null,
      "outputs": [
        {
          "output_type": "stream",
          "name": "stdout",
          "text": [
            "Epoch [1/20], Loss: 0.6913\n",
            "Epoch [2/20], Loss: 0.6630\n",
            "Epoch [3/20], Loss: 0.6414\n",
            "Epoch [4/20], Loss: 0.6245\n",
            "Epoch [5/20], Loss: 0.6103\n",
            "Epoch [6/20], Loss: 0.5980\n",
            "Epoch [7/20], Loss: 0.5871\n",
            "Epoch [8/20], Loss: 0.5767\n",
            "Epoch [9/20], Loss: 0.5659\n",
            "Epoch [10/20], Loss: 0.5539\n",
            "Epoch [11/20], Loss: 0.5407\n",
            "Epoch [12/20], Loss: 0.5264\n",
            "Epoch [13/20], Loss: 0.5111\n",
            "Epoch [14/20], Loss: 0.4955\n",
            "Epoch [15/20], Loss: 0.4797\n",
            "Epoch [16/20], Loss: 0.4638\n",
            "Epoch [17/20], Loss: 0.4481\n",
            "Epoch [18/20], Loss: 0.4324\n",
            "Epoch [19/20], Loss: 0.4169\n",
            "Epoch [20/20], Loss: 0.4009\n"
          ]
        }
      ]
    },
    {
      "cell_type": "code",
      "source": [
        "# 모델 평가\n",
        "model.eval()\n",
        "with torch.no_grad():\n",
        "    inputs = X_test.to(device)\n",
        "    labels = y_test.to(device)\n",
        "    outputs = model(inputs)\n",
        "    _, predicted = torch.max(outputs, 1)\n",
        "\n",
        "# 정확도 계산\n",
        "accuracy = accuracy_score(labels.cpu(), predicted.cpu())\n",
        "print(f\"Test Accuracy: {accuracy:.4f}\")"
      ],
      "metadata": {
        "colab": {
          "base_uri": "https://localhost:8080/"
        },
        "id": "0HCQUS12Hw3X",
        "outputId": "484d96d4-1774-4b63-cd90-9edec6e4d600"
      },
      "execution_count": null,
      "outputs": [
        {
          "output_type": "stream",
          "name": "stdout",
          "text": [
            "Test Accuracy: 0.6667\n"
          ]
        }
      ]
    },
    {
      "cell_type": "code",
      "source": [],
      "metadata": {
        "id": "8vf98xtNH0p7"
      },
      "execution_count": null,
      "outputs": []
    }
  ]
}